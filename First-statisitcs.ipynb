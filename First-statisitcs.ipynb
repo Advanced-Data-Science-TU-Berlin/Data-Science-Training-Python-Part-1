{
 "cells": [
  {
   "cell_type": "code",
   "execution_count": 37,
   "id": "0ebfd7df",
   "metadata": {},
   "outputs": [],
   "source": [
    "from statistics import*"
   ]
  },
  {
   "cell_type": "code",
   "execution_count": 38,
   "id": "467729dc",
   "metadata": {},
   "outputs": [],
   "source": [
    "test_scores = [60 , 83, 83, 91,88,91,91,100]\n"
   ]
  },
  {
   "cell_type": "code",
   "execution_count": 39,
   "id": "fb3f050c",
   "metadata": {},
   "outputs": [
    {
     "data": {
      "text/plain": [
       "85.875"
      ]
     },
     "execution_count": 39,
     "metadata": {},
     "output_type": "execute_result"
    }
   ],
   "source": [
    "mean(test_scores)"
   ]
  },
  {
   "cell_type": "code",
   "execution_count": 40,
   "id": "f2726c83",
   "metadata": {
    "scrolled": true
   },
   "outputs": [
    {
     "data": {
      "text/plain": [
       "89.5"
      ]
     },
     "execution_count": 40,
     "metadata": {},
     "output_type": "execute_result"
    }
   ],
   "source": [
    "median(test_scores)"
   ]
  },
  {
   "cell_type": "code",
   "execution_count": 41,
   "id": "5997ef79",
   "metadata": {},
   "outputs": [
    {
     "data": {
      "text/plain": [
       "91"
      ]
     },
     "execution_count": 41,
     "metadata": {},
     "output_type": "execute_result"
    }
   ],
   "source": [
    "mode(test_scores)"
   ]
  },
  {
   "cell_type": "code",
   "execution_count": 42,
   "id": "e7df7d9b",
   "metadata": {},
   "outputs": [
    {
     "data": {
      "text/plain": [
       "11.764808297873547"
      ]
     },
     "execution_count": 42,
     "metadata": {},
     "output_type": "execute_result"
    }
   ],
   "source": [
    "stdev(test_scores)\n"
   ]
  },
  {
   "cell_type": "code",
   "execution_count": 48,
   "id": "aa761421",
   "metadata": {},
   "outputs": [
    {
     "data": {
      "text/plain": [
       "138.41071428571428"
      ]
     },
     "execution_count": 48,
     "metadata": {},
     "output_type": "execute_result"
    }
   ],
   "source": [
    "variance(test_scores)"
   ]
  },
  {
   "cell_type": "raw",
   "id": "a84e2f28",
   "metadata": {},
   "source": []
  },
  {
   "cell_type": "code",
   "execution_count": 43,
   "id": "39a9d777",
   "metadata": {},
   "outputs": [],
   "source": [
    "import statistics as st\n"
   ]
  },
  {
   "cell_type": "code",
   "execution_count": 44,
   "id": "b2272151",
   "metadata": {},
   "outputs": [
    {
     "data": {
      "text/plain": [
       "85.875"
      ]
     },
     "execution_count": 44,
     "metadata": {},
     "output_type": "execute_result"
    }
   ],
   "source": [
    "st.mean(test_scores)"
   ]
  },
  {
   "cell_type": "code",
   "execution_count": 45,
   "id": "08496bd8",
   "metadata": {},
   "outputs": [
    {
     "data": {
      "text/plain": [
       "11.764808297873547"
      ]
     },
     "execution_count": 45,
     "metadata": {},
     "output_type": "execute_result"
    }
   ],
   "source": [
    "st.stdev(test_scores)"
   ]
  },
  {
   "cell_type": "code",
   "execution_count": 46,
   "id": "7462ee9d",
   "metadata": {},
   "outputs": [
    {
     "data": {
      "text/plain": [
       "89.5"
      ]
     },
     "execution_count": 46,
     "metadata": {},
     "output_type": "execute_result"
    }
   ],
   "source": [
    "st.median(test_scores)"
   ]
  },
  {
   "cell_type": "code",
   "execution_count": null,
   "id": "5fc70c43",
   "metadata": {},
   "outputs": [],
   "source": []
  },
  {
   "cell_type": "code",
   "execution_count": null,
   "id": "4e625db3",
   "metadata": {},
   "outputs": [],
   "source": []
  }
 ],
 "metadata": {
  "kernelspec": {
   "display_name": "Python 3 (ipykernel)",
   "language": "python",
   "name": "python3"
  },
  "language_info": {
   "codemirror_mode": {
    "name": "ipython",
    "version": 3
   },
   "file_extension": ".py",
   "mimetype": "text/x-python",
   "name": "python",
   "nbconvert_exporter": "python",
   "pygments_lexer": "ipython3",
   "version": "3.9.12"
  }
 },
 "nbformat": 4,
 "nbformat_minor": 5
}
