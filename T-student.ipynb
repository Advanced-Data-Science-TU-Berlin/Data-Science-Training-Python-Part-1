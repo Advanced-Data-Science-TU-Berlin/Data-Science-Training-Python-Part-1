{
 "cells": [
  {
   "cell_type": "code",
   "execution_count": 1,
   "id": "d8dbffbb-f38f-4ca8-ad3b-239f8eaa8cc9",
   "metadata": {},
   "outputs": [
    {
     "name": "stdout",
     "output_type": "stream",
     "text": [
      "   female  male\n",
      "0      47    81\n",
      "1      22    35\n",
      "2      82    30\n",
      "3      19   111\n",
      "4      85    60\n"
     ]
    }
   ],
   "source": [
    "import pandas as pd\n",
    "import numpy as np\n",
    "import random\n",
    "from numpy.random import seed\n",
    "from numpy.random import randn\n",
    "from scipy.stats import ttest_ind\n",
    "from scipy.stats import t\n",
    "\n",
    "seed(1)\n",
    "\n",
    "df=pd.DataFrame({\"female\":np.random.randint(10, 100, size=10),\"male\":np.random.randint(10, 140, size=10)})\n",
    "\n",
    "print(df.head())"
   ]
  },
  {
   "cell_type": "code",
   "execution_count": 2,
   "id": "d8c809da-d36a-468b-aa2f-a09974abc423",
   "metadata": {},
   "outputs": [
    {
     "name": "stdout",
     "output_type": "stream",
     "text": [
      "1.4975967856987693\n"
     ]
    }
   ],
   "source": [
    "se_male=df.std()['male']/np.sqrt(10)\n",
    "\n",
    "se_female=df.std()['female']/np.sqrt(10)\n",
    "\n",
    "sed=np.sqrt((se_male**2) + (se_female**2))\n",
    "\n",
    "t_stat=(df.mean()['male'] - df.mean()['female'])/sed\n",
    "print(t_stat)"
   ]
  },
  {
   "cell_type": "code",
   "execution_count": 3,
   "id": "4f7163ce-4eed-4e08-9134-3b0db71bea9e",
   "metadata": {},
   "outputs": [
    {
     "name": "stdout",
     "output_type": "stream",
     "text": [
      "t=1.4975967856987693, p=0.15156916509799923\n"
     ]
    }
   ],
   "source": [
    "t_stat, p = ttest_ind(df['male'], df['female'])\n",
    "print(f't={t_stat}, p={p}')"
   ]
  },
  {
   "cell_type": "code",
   "execution_count": 6,
   "id": "c11e2f24-3269-485d-95e1-6a15ab93cece",
   "metadata": {},
   "outputs": [
    {
     "data": {
      "text/plain": [
       "0.07578458254899961"
      ]
     },
     "execution_count": 6,
     "metadata": {},
     "output_type": "execute_result"
    }
   ],
   "source": [
    "#right-tailed \n",
    "t.sf(t_stat, 18)\n",
    "\n",
    "#for left-tailed we have to run\n",
    "#t.cdf(t_stat, DOF)\n",
    "\n",
    "#or you can just divide p by 2\n",
    "#p/2"
   ]
  },
  {
   "cell_type": "markdown",
   "id": "9a2e916c-f77b-4a90-9d94-6b86cbfd682a",
   "metadata": {},
   "source": [
    "https://predictivehacks.com/wp-content/uploads/2020/12/t_dist.png\n"
   ]
  },
  {
   "cell_type": "code",
   "execution_count": 7,
   "id": "2d4ee0af-fdeb-4a01-ad25-86601c9a5f4c",
   "metadata": {},
   "outputs": [
    {
     "name": "stdout",
     "output_type": "stream",
     "text": [
      "t=-2.262, df=198, cv=1.653, p=0.025\n",
      "Reject the null hypothesis that the means are equal.\n",
      "Reject the null hypothesis that the means are equal.\n"
     ]
    }
   ],
   "source": [
    "# t-test for independent samples\n",
    "from math import sqrt\n",
    "from numpy.random import seed\n",
    "from numpy.random import randn\n",
    "from numpy import mean\n",
    "from scipy.stats import sem\n",
    "from scipy.stats import t\n",
    "\n",
    "# function for calculating the t-test for two independent samples\n",
    "def independent_ttest(data1, data2, alpha):\n",
    "\t# calculate means\n",
    "\tmean1, mean2 = mean(data1), mean(data2)\n",
    "\t# calculate standard errors\n",
    "\tse1, se2 = sem(data1), sem(data2)\n",
    "\t# standard error on the difference between the samples\n",
    "\tsed = sqrt(se1**2.0 + se2**2.0)\n",
    "\t# calculate the t statistic\n",
    "\tt_stat = (mean1 - mean2) / sed\n",
    "\t# degrees of freedom\n",
    "\tdf = len(data1) + len(data2) - 2\n",
    "\t# calculate the critical value\n",
    "\tcv = t.ppf(1.0 - alpha, df)\n",
    "\t# calculate the p-value\n",
    "\tp = (1.0 - t.cdf(abs(t_stat), df)) * 2.0\n",
    "\t# return everything\n",
    "\treturn t_stat, df, cv, p\n",
    "\n",
    "# seed the random number generator\n",
    "seed(1)\n",
    "# generate two independent samples\n",
    "data1 = 5 * randn(100) + 50\n",
    "data2 = 5 * randn(100) + 51\n",
    "# calculate the t test\n",
    "alpha = 0.05\n",
    "t_stat, df, cv, p = independent_ttest(data1, data2, alpha)\n",
    "print('t=%.3f, df=%d, cv=%.3f, p=%.3f' % (t_stat, df, cv, p))\n",
    "# interpret via critical value\n",
    "if abs(t_stat) <= cv:\n",
    "\tprint('Accept null hypothesis that the means are equal.')\n",
    "else:\n",
    "\tprint('Reject the null hypothesis that the means are equal.')\n",
    "# interpret via p-value\n",
    "if p > alpha:\n",
    "\tprint('Accept null hypothesis that the means are equal.')\n",
    "else:\n",
    "\tprint('Reject the null hypothesis that the means are equal.')"
   ]
  },
  {
   "cell_type": "code",
   "execution_count": null,
   "id": "794a6417-1849-4fbb-af42-5d6b629e53db",
   "metadata": {},
   "outputs": [],
   "source": []
  }
 ],
 "metadata": {
  "kernelspec": {
   "display_name": "Python 3 (ipykernel)",
   "language": "python",
   "name": "python3"
  },
  "language_info": {
   "codemirror_mode": {
    "name": "ipython",
    "version": 3
   },
   "file_extension": ".py",
   "mimetype": "text/x-python",
   "name": "python",
   "nbconvert_exporter": "python",
   "pygments_lexer": "ipython3",
   "version": "3.9.12"
  }
 },
 "nbformat": 4,
 "nbformat_minor": 5
}
