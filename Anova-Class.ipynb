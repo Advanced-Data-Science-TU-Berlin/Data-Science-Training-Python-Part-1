{
 "cells": [
  {
   "cell_type": "code",
   "execution_count": 23,
   "id": "5aa803ec-7c13-4be3-ba84-ea24ea7fc89d",
   "metadata": {},
   "outputs": [],
   "source": [
    "# Importing libraries\n",
    "import scipy.stats\n",
    "import pandas as pd"
   ]
  },
  {
   "cell_type": "code",
   "execution_count": 24,
   "id": "9017704b-3b3c-4e18-ab3e-0738f83b6b02",
   "metadata": {},
   "outputs": [],
   "source": [
    "# Performance when each of the engine\n",
    "# oil is applied\n",
    "performance1 = [89, 89, 88, 78, 79]\n",
    "performance2 = [93, 92, 94, 89, 88]\n",
    "performance3 = [89, 88, 89, 93, 90]\n",
    "performance4 = [81, 78, 81, 92, 82]\n",
    "\n"
   ]
  },
  {
   "cell_type": "code",
   "execution_count": 25,
   "id": "ad35cedd-210a-4c00-acc1-819d273cf846",
   "metadata": {},
   "outputs": [
    {
     "data": {
      "text/plain": [
       "F_onewayResult(statistic=4.625000000000002, pvalue=0.016336459839780215)"
      ]
     },
     "execution_count": 25,
     "metadata": {},
     "output_type": "execute_result"
    }
   ],
   "source": [
    "# Conduct the one-way ANOVA\n",
    "scipy.stats.f_oneway(performance1, performance2, performance3, performance4)"
   ]
  },
  {
   "cell_type": "code",
   "execution_count": null,
   "id": "d0cd0c83-77c5-4c87-b8b6-7f4e4fa47b77",
   "metadata": {},
   "outputs": [],
   "source": []
  },
  {
   "cell_type": "code",
   "execution_count": null,
   "id": "12bc2f5c-1fd9-41df-b63f-72048a9d2847",
   "metadata": {},
   "outputs": [],
   "source": []
  },
  {
   "cell_type": "code",
   "execution_count": null,
   "id": "4ce7bd2a-b99e-4144-b66b-e77510240cc3",
   "metadata": {},
   "outputs": [],
   "source": [
    "# Importing libraries\n",
    "import numpy as np\n",
    "import pandas as pd"
   ]
  },
  {
   "cell_type": "code",
   "execution_count": 14,
   "id": "8e9eda47-08d9-41da-a9a4-06c92b869141",
   "metadata": {},
   "outputs": [],
   "source": [
    "import scipy.stats"
   ]
  },
  {
   "cell_type": "code",
   "execution_count": 15,
   "id": "7da4ca4d-ac53-42cc-8699-a8b75e1f2988",
   "metadata": {},
   "outputs": [],
   "source": [
    "tillamook = [0.0571, 0.0813, 0.0831, 0.0976, 0.0817, 0.0859, 0.0735,\n",
    "...              0.0659, 0.0923, 0.0836]\n",
    ">>> newport = [0.0873, 0.0662, 0.0672, 0.0819, 0.0749, 0.0649, 0.0835,\n",
    "...            0.0725]\n",
    ">>> petersburg = [0.0974, 0.1352, 0.0817, 0.1016, 0.0968, 0.1064, 0.105]\n",
    ">>> magadan = [0.1033, 0.0915, 0.0781, 0.0685, 0.0677, 0.0697, 0.0764,\n",
    "...            0.0689]\n",
    ">>> tvarminne = [0.0703, 0.1026, 0.0956, 0.0973, 0.1039, 0.1045]"
   ]
  },
  {
   "cell_type": "code",
   "execution_count": 16,
   "id": "30146706-3d38-4768-aa26-c8a005c8cf18",
   "metadata": {},
   "outputs": [
    {
     "name": "stdout",
     "output_type": "stream",
     "text": [
      "[0.0571, 0.0813, 0.0831, 0.0976, 0.0817, 0.0859, 0.0735, 0.0659, 0.0923, 0.0836] [0.0873, 0.0662, 0.0672, 0.0819, 0.0749, 0.0649, 0.0835, 0.0725] [0.0974, 0.1352, 0.0817, 0.1016, 0.0968, 0.1064, 0.105] [0.1033, 0.0915, 0.0781, 0.0685, 0.0677, 0.0697, 0.0764, 0.0689] [0.0703, 0.1026, 0.0956, 0.0973, 0.1039, 0.1045]\n"
     ]
    }
   ],
   "source": [
    "print(tillamook, newport, petersburg, magadan, tvarminne)"
   ]
  },
  {
   "cell_type": "code",
   "execution_count": 19,
   "id": "92b01ba4-e7f8-4545-abb6-d32522f61747",
   "metadata": {},
   "outputs": [
    {
     "data": {
      "text/plain": [
       "F_onewayResult(statistic=7.121019471642447, pvalue=0.0002812242314534544)"
      ]
     },
     "execution_count": 19,
     "metadata": {},
     "output_type": "execute_result"
    }
   ],
   "source": [
    "scipy.stats.f_oneway(tillamook, newport, petersburg, magadan, tvarminne)"
   ]
  },
  {
   "cell_type": "code",
   "execution_count": null,
   "id": "e86acba4-b7a0-45a8-bf54-7ff6050298e7",
   "metadata": {},
   "outputs": [],
   "source": []
  }
 ],
 "metadata": {
  "kernelspec": {
   "display_name": "Python 3 (ipykernel)",
   "language": "python",
   "name": "python3"
  },
  "language_info": {
   "codemirror_mode": {
    "name": "ipython",
    "version": 3
   },
   "file_extension": ".py",
   "mimetype": "text/x-python",
   "name": "python",
   "nbconvert_exporter": "python",
   "pygments_lexer": "ipython3",
   "version": "3.9.12"
  }
 },
 "nbformat": 4,
 "nbformat_minor": 5
}
