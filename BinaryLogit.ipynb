{
 "cells": [
  {
   "cell_type": "code",
   "execution_count": 60,
   "id": "7997a9a0-1951-4ece-9aa5-d754fab7e148",
   "metadata": {},
   "outputs": [],
   "source": [
    "import pandas as pd\n",
    "df = pd.read_csv('bank-loan.csv')\n",
    "\n"
   ]
  },
  {
   "cell_type": "code",
   "execution_count": 61,
   "id": "29d83e58-be19-407a-aa7d-397d39fc0de8",
   "metadata": {},
   "outputs": [
    {
     "name": "stdout",
     "output_type": "stream",
     "text": [
      "<class 'pandas.core.frame.DataFrame'>\n",
      "RangeIndex: 850 entries, 0 to 849\n",
      "Data columns (total 9 columns):\n",
      " #   Column    Non-Null Count  Dtype  \n",
      "---  ------    --------------  -----  \n",
      " 0   age       850 non-null    int64  \n",
      " 1   ed        850 non-null    int64  \n",
      " 2   employ    850 non-null    int64  \n",
      " 3   address   850 non-null    int64  \n",
      " 4   income    850 non-null    int64  \n",
      " 5   debtinc   850 non-null    float64\n",
      " 6   creddebt  850 non-null    float64\n",
      " 7   othdebt   850 non-null    float64\n",
      " 8   default   700 non-null    float64\n",
      "dtypes: float64(4), int64(5)\n",
      "memory usage: 59.9 KB\n"
     ]
    }
   ],
   "source": [
    "df.info()"
   ]
  },
  {
   "cell_type": "code",
   "execution_count": 62,
   "id": "d9fd76e3-d127-4dbd-aa48-43ad206ad6aa",
   "metadata": {},
   "outputs": [
    {
     "data": {
      "text/html": [
       "<div>\n",
       "<style scoped>\n",
       "    .dataframe tbody tr th:only-of-type {\n",
       "        vertical-align: middle;\n",
       "    }\n",
       "\n",
       "    .dataframe tbody tr th {\n",
       "        vertical-align: top;\n",
       "    }\n",
       "\n",
       "    .dataframe thead th {\n",
       "        text-align: right;\n",
       "    }\n",
       "</style>\n",
       "<table border=\"1\" class=\"dataframe\">\n",
       "  <thead>\n",
       "    <tr style=\"text-align: right;\">\n",
       "      <th></th>\n",
       "      <th>age</th>\n",
       "      <th>ed</th>\n",
       "      <th>employ</th>\n",
       "      <th>address</th>\n",
       "      <th>income</th>\n",
       "      <th>debtinc</th>\n",
       "      <th>creddebt</th>\n",
       "      <th>othdebt</th>\n",
       "      <th>default</th>\n",
       "    </tr>\n",
       "  </thead>\n",
       "  <tbody>\n",
       "    <tr>\n",
       "      <th>0</th>\n",
       "      <td>41</td>\n",
       "      <td>3</td>\n",
       "      <td>17</td>\n",
       "      <td>12</td>\n",
       "      <td>176</td>\n",
       "      <td>9.3</td>\n",
       "      <td>11.359392</td>\n",
       "      <td>5.008608</td>\n",
       "      <td>1.0</td>\n",
       "    </tr>\n",
       "    <tr>\n",
       "      <th>1</th>\n",
       "      <td>27</td>\n",
       "      <td>1</td>\n",
       "      <td>10</td>\n",
       "      <td>6</td>\n",
       "      <td>31</td>\n",
       "      <td>17.3</td>\n",
       "      <td>1.362202</td>\n",
       "      <td>4.000798</td>\n",
       "      <td>0.0</td>\n",
       "    </tr>\n",
       "    <tr>\n",
       "      <th>2</th>\n",
       "      <td>40</td>\n",
       "      <td>1</td>\n",
       "      <td>15</td>\n",
       "      <td>14</td>\n",
       "      <td>55</td>\n",
       "      <td>5.5</td>\n",
       "      <td>0.856075</td>\n",
       "      <td>2.168925</td>\n",
       "      <td>0.0</td>\n",
       "    </tr>\n",
       "    <tr>\n",
       "      <th>3</th>\n",
       "      <td>41</td>\n",
       "      <td>1</td>\n",
       "      <td>15</td>\n",
       "      <td>14</td>\n",
       "      <td>120</td>\n",
       "      <td>2.9</td>\n",
       "      <td>2.658720</td>\n",
       "      <td>0.821280</td>\n",
       "      <td>0.0</td>\n",
       "    </tr>\n",
       "    <tr>\n",
       "      <th>4</th>\n",
       "      <td>24</td>\n",
       "      <td>2</td>\n",
       "      <td>2</td>\n",
       "      <td>0</td>\n",
       "      <td>28</td>\n",
       "      <td>17.3</td>\n",
       "      <td>1.787436</td>\n",
       "      <td>3.056564</td>\n",
       "      <td>1.0</td>\n",
       "    </tr>\n",
       "  </tbody>\n",
       "</table>\n",
       "</div>"
      ],
      "text/plain": [
       "   age  ed  employ  address  income  debtinc   creddebt   othdebt  default\n",
       "0   41   3      17       12     176      9.3  11.359392  5.008608      1.0\n",
       "1   27   1      10        6      31     17.3   1.362202  4.000798      0.0\n",
       "2   40   1      15       14      55      5.5   0.856075  2.168925      0.0\n",
       "3   41   1      15       14     120      2.9   2.658720  0.821280      0.0\n",
       "4   24   2       2        0      28     17.3   1.787436  3.056564      1.0"
      ]
     },
     "execution_count": 62,
     "metadata": {},
     "output_type": "execute_result"
    }
   ],
   "source": [
    "df.head()"
   ]
  },
  {
   "cell_type": "code",
   "execution_count": 63,
   "id": "a756d1d7-a712-4db6-998c-80cdd9f3b4a6",
   "metadata": {},
   "outputs": [],
   "source": [
    "import statsmodels.formula.api as smf\n",
    "\n"
   ]
  },
  {
   "cell_type": "code",
   "execution_count": 64,
   "id": "a2e8d9db-e4d0-474f-9726-4382fdac3fe5",
   "metadata": {},
   "outputs": [
    {
     "name": "stdout",
     "output_type": "stream",
     "text": [
      "Optimization terminated successfully.\n",
      "         Current function value: 0.397712\n",
      "         Iterations 7\n"
     ]
    }
   ],
   "source": [
    " riskmodel = smf.logit(formula = 'default ~ age + employ + address + income + creddebt + othdebt', data = df).fit()"
   ]
  },
  {
   "cell_type": "code",
   "execution_count": 65,
   "id": "74bb37c0-f632-4b63-bd2f-e4464e201c28",
   "metadata": {},
   "outputs": [
    {
     "data": {
      "text/html": [
       "<table class=\"simpletable\">\n",
       "<caption>Logit Regression Results</caption>\n",
       "<tr>\n",
       "  <th>Dep. Variable:</th>        <td>default</td>     <th>  No. Observations:  </th>  <td>   700</td>  \n",
       "</tr>\n",
       "<tr>\n",
       "  <th>Model:</th>                 <td>Logit</td>      <th>  Df Residuals:      </th>  <td>   693</td>  \n",
       "</tr>\n",
       "<tr>\n",
       "  <th>Method:</th>                 <td>MLE</td>       <th>  Df Model:          </th>  <td>     6</td>  \n",
       "</tr>\n",
       "<tr>\n",
       "  <th>Date:</th>            <td>Mon, 06 Jun 2022</td> <th>  Pseudo R-squ.:     </th>  <td>0.3078</td>  \n",
       "</tr>\n",
       "<tr>\n",
       "  <th>Time:</th>                <td>22:46:05</td>     <th>  Log-Likelihood:    </th> <td> -278.40</td> \n",
       "</tr>\n",
       "<tr>\n",
       "  <th>converged:</th>             <td>True</td>       <th>  LL-Null:           </th> <td> -402.18</td> \n",
       "</tr>\n",
       "<tr>\n",
       "  <th>Covariance Type:</th>     <td>nonrobust</td>    <th>  LLR p-value:       </th> <td>1.357e-50</td>\n",
       "</tr>\n",
       "</table>\n",
       "<table class=\"simpletable\">\n",
       "<tr>\n",
       "      <td></td>         <th>coef</th>     <th>std err</th>      <th>z</th>      <th>P>|z|</th>  <th>[0.025</th>    <th>0.975]</th>  \n",
       "</tr>\n",
       "<tr>\n",
       "  <th>Intercept</th> <td>   -0.7126</td> <td>    0.473</td> <td>   -1.506</td> <td> 0.132</td> <td>   -1.640</td> <td>    0.215</td>\n",
       "</tr>\n",
       "<tr>\n",
       "  <th>age</th>       <td>    0.0344</td> <td>    0.017</td> <td>    1.999</td> <td> 0.046</td> <td>    0.001</td> <td>    0.068</td>\n",
       "</tr>\n",
       "<tr>\n",
       "  <th>employ</th>    <td>   -0.2806</td> <td>    0.032</td> <td>   -8.887</td> <td> 0.000</td> <td>   -0.343</td> <td>   -0.219</td>\n",
       "</tr>\n",
       "<tr>\n",
       "  <th>address</th>   <td>   -0.1051</td> <td>    0.023</td> <td>   -4.538</td> <td> 0.000</td> <td>   -0.150</td> <td>   -0.060</td>\n",
       "</tr>\n",
       "<tr>\n",
       "  <th>income</th>    <td>   -0.0195</td> <td>    0.005</td> <td>   -3.691</td> <td> 0.000</td> <td>   -0.030</td> <td>   -0.009</td>\n",
       "</tr>\n",
       "<tr>\n",
       "  <th>creddebt</th>  <td>    0.7832</td> <td>    0.096</td> <td>    8.193</td> <td> 0.000</td> <td>    0.596</td> <td>    0.971</td>\n",
       "</tr>\n",
       "<tr>\n",
       "  <th>othdebt</th>   <td>    0.1975</td> <td>    0.050</td> <td>    3.974</td> <td> 0.000</td> <td>    0.100</td> <td>    0.295</td>\n",
       "</tr>\n",
       "</table>"
      ],
      "text/plain": [
       "<class 'statsmodels.iolib.summary.Summary'>\n",
       "\"\"\"\n",
       "                           Logit Regression Results                           \n",
       "==============================================================================\n",
       "Dep. Variable:                default   No. Observations:                  700\n",
       "Model:                          Logit   Df Residuals:                      693\n",
       "Method:                           MLE   Df Model:                            6\n",
       "Date:                Mon, 06 Jun 2022   Pseudo R-squ.:                  0.3078\n",
       "Time:                        22:46:05   Log-Likelihood:                -278.40\n",
       "converged:                       True   LL-Null:                       -402.18\n",
       "Covariance Type:            nonrobust   LLR p-value:                 1.357e-50\n",
       "==============================================================================\n",
       "                 coef    std err          z      P>|z|      [0.025      0.975]\n",
       "------------------------------------------------------------------------------\n",
       "Intercept     -0.7126      0.473     -1.506      0.132      -1.640       0.215\n",
       "age            0.0344      0.017      1.999      0.046       0.001       0.068\n",
       "employ        -0.2806      0.032     -8.887      0.000      -0.343      -0.219\n",
       "address       -0.1051      0.023     -4.538      0.000      -0.150      -0.060\n",
       "income        -0.0195      0.005     -3.691      0.000      -0.030      -0.009\n",
       "creddebt       0.7832      0.096      8.193      0.000       0.596       0.971\n",
       "othdebt        0.1975      0.050      3.974      0.000       0.100       0.295\n",
       "==============================================================================\n",
       "\"\"\""
      ]
     },
     "execution_count": 65,
     "metadata": {},
     "output_type": "execute_result"
    }
   ],
   "source": [
    " riskmodel.summary() "
   ]
  },
  {
   "cell_type": "code",
   "execution_count": 66,
   "id": "903b7276-42d8-4b93-8574-7ecec32b8836",
   "metadata": {},
   "outputs": [],
   "source": [
    "import numpy as np\n"
   ]
  },
  {
   "cell_type": "code",
   "execution_count": 67,
   "id": "f451d9cf-afd8-4faf-be55-e2d6d4198460",
   "metadata": {},
   "outputs": [
    {
     "data": {
      "text/html": [
       "<table class=\"simpletable\">\n",
       "<caption>Logit Regression Results</caption>\n",
       "<tr>\n",
       "  <th>Dep. Variable:</th>         <td>coef</td>       <th>  No. Observations:  </th>  <td>   700</td>  \n",
       "</tr>\n",
       "<tr>\n",
       "  <th>Model:</th>                 <td>Logit</td>      <th>  Df Residuals:      </th>  <td>   693</td>  \n",
       "</tr>\n",
       "<tr>\n",
       "  <th>Method:</th>                 <td>MLE</td>       <th>  Df Model:          </th>  <td>     6</td>  \n",
       "</tr>\n",
       "<tr>\n",
       "  <th>Date:</th>            <td>Mon, 06 Jun 2022</td> <th>  Pseudo R-squ.:     </th>  <td>0.3078</td>  \n",
       "</tr>\n",
       "<tr>\n",
       "  <th>Time:</th>                <td>22:46:05</td>     <th>  Log-Likelihood:    </th> <td> -278.40</td> \n",
       "</tr>\n",
       "<tr>\n",
       "  <th>converged:</th>             <td>True</td>       <th>  LL-Null:           </th> <td> -402.18</td> \n",
       "</tr>\n",
       "<tr>\n",
       "  <th>Covariance Type:</th>     <td>nonrobust</td>    <th>  LLR p-value:       </th> <td>1.357e-50</td>\n",
       "</tr>\n",
       "</table>\n",
       "<table class=\"simpletable\">\n",
       "<tr>\n",
       "      <td></td>         <th>coef</th>     <th>std err</th>      <th>z</th>      <th>P>|z|</th>  <th>[0.025</th>    <th>0.975]</th>  \n",
       "</tr>\n",
       "<tr>\n",
       "  <th>Intercept</th> <td>   -0.7126</td> <td>    0.473</td> <td>   -1.506</td> <td> 0.132</td> <td>   -1.640</td> <td>    0.215</td>\n",
       "</tr>\n",
       "<tr>\n",
       "  <th>age</th>       <td>    0.0344</td> <td>    0.017</td> <td>    1.999</td> <td> 0.046</td> <td>    0.001</td> <td>    0.068</td>\n",
       "</tr>\n",
       "<tr>\n",
       "  <th>employ</th>    <td>   -0.2806</td> <td>    0.032</td> <td>   -8.887</td> <td> 0.000</td> <td>   -0.343</td> <td>   -0.219</td>\n",
       "</tr>\n",
       "<tr>\n",
       "  <th>address</th>   <td>   -0.1051</td> <td>    0.023</td> <td>   -4.538</td> <td> 0.000</td> <td>   -0.150</td> <td>   -0.060</td>\n",
       "</tr>\n",
       "<tr>\n",
       "  <th>income</th>    <td>   -0.0195</td> <td>    0.005</td> <td>   -3.691</td> <td> 0.000</td> <td>   -0.030</td> <td>   -0.009</td>\n",
       "</tr>\n",
       "<tr>\n",
       "  <th>creddebt</th>  <td>    0.7832</td> <td>    0.096</td> <td>    8.193</td> <td> 0.000</td> <td>    0.596</td> <td>    0.971</td>\n",
       "</tr>\n",
       "<tr>\n",
       "  <th>othdebt</th>   <td>    0.1975</td> <td>    0.050</td> <td>    3.974</td> <td> 0.000</td> <td>    0.100</td> <td>    0.295</td>\n",
       "</tr>\n",
       "</table>"
      ],
      "text/plain": [
       "<class 'statsmodels.iolib.summary.Summary'>\n",
       "\"\"\"\n",
       "                           Logit Regression Results                           \n",
       "==============================================================================\n",
       "Dep. Variable:                   coef   No. Observations:                  700\n",
       "Model:                          Logit   Df Residuals:                      693\n",
       "Method:                           MLE   Df Model:                            6\n",
       "Date:                Mon, 06 Jun 2022   Pseudo R-squ.:                  0.3078\n",
       "Time:                        22:46:05   Log-Likelihood:                -278.40\n",
       "converged:                       True   LL-Null:                       -402.18\n",
       "Covariance Type:            nonrobust   LLR p-value:                 1.357e-50\n",
       "==============================================================================\n",
       "                 coef    std err          z      P>|z|      [0.025      0.975]\n",
       "------------------------------------------------------------------------------\n",
       "Intercept     -0.7126      0.473     -1.506      0.132      -1.640       0.215\n",
       "age            0.0344      0.017      1.999      0.046       0.001       0.068\n",
       "employ        -0.2806      0.032     -8.887      0.000      -0.343      -0.219\n",
       "address       -0.1051      0.023     -4.538      0.000      -0.150      -0.060\n",
       "income        -0.0195      0.005     -3.691      0.000      -0.030      -0.009\n",
       "creddebt       0.7832      0.096      8.193      0.000       0.596       0.971\n",
       "othdebt        0.1975      0.050      3.974      0.000       0.100       0.295\n",
       "==============================================================================\n",
       "\"\"\""
      ]
     },
     "execution_count": 67,
     "metadata": {},
     "output_type": "execute_result"
    }
   ],
   "source": [
    "riskmodel.summary('coef')"
   ]
  },
  {
   "cell_type": "code",
   "execution_count": null,
   "id": "18670ee9-7e44-4ce0-9d56-d9e3058d0447",
   "metadata": {},
   "outputs": [],
   "source": []
  },
  {
   "cell_type": "code",
   "execution_count": null,
   "id": "4e4a641d-a76c-4ea6-ac4c-f98f86b221a0",
   "metadata": {},
   "outputs": [],
   "source": []
  },
  {
   "cell_type": "code",
   "execution_count": null,
   "id": "82c371f1-8776-4b5f-94d8-025a0d74b532",
   "metadata": {},
   "outputs": [],
   "source": []
  }
 ],
 "metadata": {
  "kernelspec": {
   "display_name": "Python 3 (ipykernel)",
   "language": "python",
   "name": "python3"
  },
  "language_info": {
   "codemirror_mode": {
    "name": "ipython",
    "version": 3
   },
   "file_extension": ".py",
   "mimetype": "text/x-python",
   "name": "python",
   "nbconvert_exporter": "python",
   "pygments_lexer": "ipython3",
   "version": "3.9.12"
  }
 },
 "nbformat": 4,
 "nbformat_minor": 5
}
