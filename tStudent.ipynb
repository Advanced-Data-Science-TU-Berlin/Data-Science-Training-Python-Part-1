{
 "cells": [
  {
   "cell_type": "code",
   "execution_count": 1,
   "id": "b1d8fe7b-dcd9-4684-93dd-92f92b12f7e2",
   "metadata": {},
   "outputs": [],
   "source": [
    "import pandas as pd\n",
    "from scipy.stats import ttest_ind"
   ]
  },
  {
   "cell_type": "code",
   "execution_count": 2,
   "id": "7e5bc855-7156-435e-abf8-4fab44603e00",
   "metadata": {},
   "outputs": [],
   "source": [
    "#create pandas DataFrame\n",
    "df = pd.DataFrame({'method': ['A', 'A', 'A', 'A', 'A', 'A', 'A', 'A', 'A', 'A',\n",
    "                              'B', 'B', 'B', 'B', 'B', 'B', 'B', 'B', 'B', 'B'],\n",
    "                   'score': [71, 72, 72, 75, 78, 81, 82, 83, 89, 91, 80, 81, 81,\n",
    "                             84, 88, 88, 89, 90, 90, 91]})\n"
   ]
  },
  {
   "cell_type": "code",
   "execution_count": 3,
   "id": "7b01ad6f-f7bc-4622-a1d4-75fa013b1b4f",
   "metadata": {},
   "outputs": [
    {
     "data": {
      "text/html": [
       "<div>\n",
       "<style scoped>\n",
       "    .dataframe tbody tr th:only-of-type {\n",
       "        vertical-align: middle;\n",
       "    }\n",
       "\n",
       "    .dataframe tbody tr th {\n",
       "        vertical-align: top;\n",
       "    }\n",
       "\n",
       "    .dataframe thead th {\n",
       "        text-align: right;\n",
       "    }\n",
       "</style>\n",
       "<table border=\"1\" class=\"dataframe\">\n",
       "  <thead>\n",
       "    <tr style=\"text-align: right;\">\n",
       "      <th></th>\n",
       "      <th>method</th>\n",
       "      <th>score</th>\n",
       "    </tr>\n",
       "  </thead>\n",
       "  <tbody>\n",
       "    <tr>\n",
       "      <th>0</th>\n",
       "      <td>A</td>\n",
       "      <td>71</td>\n",
       "    </tr>\n",
       "    <tr>\n",
       "      <th>1</th>\n",
       "      <td>A</td>\n",
       "      <td>72</td>\n",
       "    </tr>\n",
       "    <tr>\n",
       "      <th>2</th>\n",
       "      <td>A</td>\n",
       "      <td>72</td>\n",
       "    </tr>\n",
       "    <tr>\n",
       "      <th>3</th>\n",
       "      <td>A</td>\n",
       "      <td>75</td>\n",
       "    </tr>\n",
       "    <tr>\n",
       "      <th>4</th>\n",
       "      <td>A</td>\n",
       "      <td>78</td>\n",
       "    </tr>\n",
       "  </tbody>\n",
       "</table>\n",
       "</div>"
      ],
      "text/plain": [
       "  method  score\n",
       "0      A     71\n",
       "1      A     72\n",
       "2      A     72\n",
       "3      A     75\n",
       "4      A     78"
      ]
     },
     "execution_count": 3,
     "metadata": {},
     "output_type": "execute_result"
    }
   ],
   "source": [
    "#view first five rows of DataFrame\n",
    "df.head()"
   ]
  },
  {
   "cell_type": "code",
   "execution_count": 4,
   "id": "569c841e-add6-432d-bbee-5f0267f4c223",
   "metadata": {},
   "outputs": [],
   "source": [
    "#define samples\n",
    "group1 = df[df['method']=='A']\n",
    "group2 = df[df['method']=='B']"
   ]
  },
  {
   "cell_type": "code",
   "execution_count": 5,
   "id": "6c206c61-cd8f-47e4-b206-8f2dc233feef",
   "metadata": {},
   "outputs": [
    {
     "data": {
      "text/plain": [
       "Ttest_indResult(statistic=-2.6034304605397938, pvalue=0.017969284594810425)"
      ]
     },
     "execution_count": 5,
     "metadata": {},
     "output_type": "execute_result"
    }
   ],
   "source": [
    "#perform independent two sample t-test\n",
    "ttest_ind(group1['score'], group2['score'])\n"
   ]
  },
  {
   "cell_type": "code",
   "execution_count": null,
   "id": "340991a5-f74f-451c-9d81-89b19f5b297a",
   "metadata": {},
   "outputs": [],
   "source": []
  }
 ],
 "metadata": {
  "kernelspec": {
   "display_name": "Python 3 (ipykernel)",
   "language": "python",
   "name": "python3"
  },
  "language_info": {
   "codemirror_mode": {
    "name": "ipython",
    "version": 3
   },
   "file_extension": ".py",
   "mimetype": "text/x-python",
   "name": "python",
   "nbconvert_exporter": "python",
   "pygments_lexer": "ipython3",
   "version": "3.9.12"
  }
 },
 "nbformat": 4,
 "nbformat_minor": 5
}
