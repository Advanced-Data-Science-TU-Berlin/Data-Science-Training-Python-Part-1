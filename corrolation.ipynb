{
 "cells": [
  {
   "cell_type": "code",
   "execution_count": 1,
   "id": "72bf3883-4ecd-4227-8bb6-624c6677a162",
   "metadata": {},
   "outputs": [],
   "source": [
    "import numpy as np\n",
    "import pandas as pd\n",
    "import matplotlib.pyplot as plt\n",
    "import seaborn as sb"
   ]
  },
  {
   "cell_type": "code",
   "execution_count": 4,
   "id": "d730f920-1826-4e53-8cd2-33f4ae4fcda8",
   "metadata": {},
   "outputs": [],
   "source": [
    "df = pd.read_csv(\"http://rcs.bu.edu/examples/python/data_analysis/Salaries.csv\")\n"
   ]
  },
  {
   "cell_type": "code",
   "execution_count": 5,
   "id": "6bd138be-cc33-4cfb-a21d-9c8080043e27",
   "metadata": {},
   "outputs": [
    {
     "name": "stdout",
     "output_type": "stream",
     "text": [
      "         rank discipline  phd  service     sex  salary\n",
      "0        Prof          B   56       49    Male  186960\n",
      "1        Prof          A   12        6    Male   93000\n",
      "2        Prof          A   23       20    Male  110515\n",
      "3        Prof          A   40       31    Male  131205\n",
      "4        Prof          B   20       18    Male  104800\n",
      "..        ...        ...  ...      ...     ...     ...\n",
      "73       Prof          B   18       10  Female  105450\n",
      "74  AssocProf          B   19        6  Female  104542\n",
      "75       Prof          B   17       17  Female  124312\n",
      "76       Prof          A   28       14  Female  109954\n",
      "77       Prof          A   23       15  Female  109646\n",
      "\n",
      "[78 rows x 6 columns]\n"
     ]
    }
   ],
   "source": [
    "print(df)"
   ]
  },
  {
   "cell_type": "code",
   "execution_count": 15,
   "id": "e8d9fd37-2f94-4fc6-9580-0532d2f47706",
   "metadata": {},
   "outputs": [
    {
     "data": {
      "text/html": [
       "<div>\n",
       "<style scoped>\n",
       "    .dataframe tbody tr th:only-of-type {\n",
       "        vertical-align: middle;\n",
       "    }\n",
       "\n",
       "    .dataframe tbody tr th {\n",
       "        vertical-align: top;\n",
       "    }\n",
       "\n",
       "    .dataframe thead th {\n",
       "        text-align: right;\n",
       "    }\n",
       "</style>\n",
       "<table border=\"1\" class=\"dataframe\">\n",
       "  <thead>\n",
       "    <tr style=\"text-align: right;\">\n",
       "      <th></th>\n",
       "      <th>phd</th>\n",
       "      <th>service</th>\n",
       "      <th>salary</th>\n",
       "    </tr>\n",
       "  </thead>\n",
       "  <tbody>\n",
       "    <tr>\n",
       "      <th>phd</th>\n",
       "      <td>1.000000</td>\n",
       "      <td>0.927170</td>\n",
       "      <td>0.581356</td>\n",
       "    </tr>\n",
       "    <tr>\n",
       "      <th>service</th>\n",
       "      <td>0.927170</td>\n",
       "      <td>1.000000</td>\n",
       "      <td>0.532191</td>\n",
       "    </tr>\n",
       "    <tr>\n",
       "      <th>salary</th>\n",
       "      <td>0.581356</td>\n",
       "      <td>0.532191</td>\n",
       "      <td>1.000000</td>\n",
       "    </tr>\n",
       "  </tbody>\n",
       "</table>\n",
       "</div>"
      ],
      "text/plain": [
       "              phd   service    salary\n",
       "phd      1.000000  0.927170  0.581356\n",
       "service  0.927170  1.000000  0.532191\n",
       "salary   0.581356  0.532191  1.000000"
      ]
     },
     "execution_count": 15,
     "metadata": {},
     "output_type": "execute_result"
    }
   ],
   "source": [
    "corr = df.corr()\n",
    "corr"
   ]
  },
  {
   "cell_type": "code",
   "execution_count": 7,
   "id": "032a497e-2d02-4d4d-88e9-cc6b9022f80a",
   "metadata": {},
   "outputs": [],
   "source": [
    "import seaborn as sb\n"
   ]
  },
  {
   "cell_type": "code",
   "execution_count": 16,
   "id": "b5b260bb-567f-44fa-9df9-4556aec949d6",
   "metadata": {},
   "outputs": [
    {
     "data": {
      "text/plain": [
       "<AxesSubplot:>"
      ]
     },
     "execution_count": 16,
     "metadata": {},
     "output_type": "execute_result"
    },
    {
     "data": {
      "image/png": "[encoded data removed]",
      "text/plain": [
       "<Figure size 432x288 with 2 Axes>"
      ]
     },
     "metadata": {
      "needs_background": "light"
     },
     "output_type": "display_data"
    }
   ],
   "source": [
    "#https://seaborn.pydata.org/generated/seaborn.heatmap.html\n",
    "sb.heatmap(corr, \n",
    "            xticklabels=pearsoncorr.columns,\n",
    "            yticklabels=pearsoncorr.columns,\n",
    "            cmap='RdBu_r',\n",
    "            annot=True,\n",
    "            linewidth=0.8)"
   ]
  },
  {
   "cell_type": "code",
   "execution_count": 20,
   "id": "f4f01dbe-5afa-4dad-9a8c-768458a0fa08",
   "metadata": {},
   "outputs": [],
   "source": [
    "corrKendall= df.corr('kendall')"
   ]
  },
  {
   "cell_type": "code",
   "execution_count": 21,
   "id": "cd0c14b1-37af-4193-a6b3-be843c9cf75d",
   "metadata": {},
   "outputs": [
    {
     "data": {
      "text/html": [
       "<div>\n",
       "<style scoped>\n",
       "    .dataframe tbody tr th:only-of-type {\n",
       "        vertical-align: middle;\n",
       "    }\n",
       "\n",
       "    .dataframe tbody tr th {\n",
       "        vertical-align: top;\n",
       "    }\n",
       "\n",
       "    .dataframe thead th {\n",
       "        text-align: right;\n",
       "    }\n",
       "</style>\n",
       "<table border=\"1\" class=\"dataframe\">\n",
       "  <thead>\n",
       "    <tr style=\"text-align: right;\">\n",
       "      <th></th>\n",
       "      <th>phd</th>\n",
       "      <th>service</th>\n",
       "      <th>salary</th>\n",
       "    </tr>\n",
       "  </thead>\n",
       "  <tbody>\n",
       "    <tr>\n",
       "      <th>phd</th>\n",
       "      <td>1.000000</td>\n",
       "      <td>0.776391</td>\n",
       "      <td>0.437459</td>\n",
       "    </tr>\n",
       "    <tr>\n",
       "      <th>service</th>\n",
       "      <td>0.776391</td>\n",
       "      <td>1.000000</td>\n",
       "      <td>0.432258</td>\n",
       "    </tr>\n",
       "    <tr>\n",
       "      <th>salary</th>\n",
       "      <td>0.437459</td>\n",
       "      <td>0.432258</td>\n",
       "      <td>1.000000</td>\n",
       "    </tr>\n",
       "  </tbody>\n",
       "</table>\n",
       "</div>"
      ],
      "text/plain": [
       "              phd   service    salary\n",
       "phd      1.000000  0.776391  0.437459\n",
       "service  0.776391  1.000000  0.432258\n",
       "salary   0.437459  0.432258  1.000000"
      ]
     },
     "execution_count": 21,
     "metadata": {},
     "output_type": "execute_result"
    }
   ],
   "source": [
    "corrKendall"
   ]
  },
  {
   "cell_type": "code",
   "execution_count": 25,
   "id": "c211bb1a-3712-4d66-92d9-62e820e21142",
   "metadata": {},
   "outputs": [],
   "source": [
    "corrspearman= df.corr('spearman')"
   ]
  },
  {
   "cell_type": "code",
   "execution_count": 26,
   "id": "75df28d6-9a5a-45cb-ba9e-7a9b5e99ef91",
   "metadata": {},
   "outputs": [
    {
     "data": {
      "text/html": [
       "<div>\n",
       "<style scoped>\n",
       "    .dataframe tbody tr th:only-of-type {\n",
       "        vertical-align: middle;\n",
       "    }\n",
       "\n",
       "    .dataframe tbody tr th {\n",
       "        vertical-align: top;\n",
       "    }\n",
       "\n",
       "    .dataframe thead th {\n",
       "        text-align: right;\n",
       "    }\n",
       "</style>\n",
       "<table border=\"1\" class=\"dataframe\">\n",
       "  <thead>\n",
       "    <tr style=\"text-align: right;\">\n",
       "      <th></th>\n",
       "      <th>phd</th>\n",
       "      <th>service</th>\n",
       "      <th>salary</th>\n",
       "    </tr>\n",
       "  </thead>\n",
       "  <tbody>\n",
       "    <tr>\n",
       "      <th>phd</th>\n",
       "      <td>1.000000</td>\n",
       "      <td>0.911758</td>\n",
       "      <td>0.584282</td>\n",
       "    </tr>\n",
       "    <tr>\n",
       "      <th>service</th>\n",
       "      <td>0.911758</td>\n",
       "      <td>1.000000</td>\n",
       "      <td>0.553002</td>\n",
       "    </tr>\n",
       "    <tr>\n",
       "      <th>salary</th>\n",
       "      <td>0.584282</td>\n",
       "      <td>0.553002</td>\n",
       "      <td>1.000000</td>\n",
       "    </tr>\n",
       "  </tbody>\n",
       "</table>\n",
       "</div>"
      ],
      "text/plain": [
       "              phd   service    salary\n",
       "phd      1.000000  0.911758  0.584282\n",
       "service  0.911758  1.000000  0.553002\n",
       "salary   0.584282  0.553002  1.000000"
      ]
     },
     "execution_count": 26,
     "metadata": {},
     "output_type": "execute_result"
    }
   ],
   "source": [
    "corrspearman"
   ]
  },
  {
   "cell_type": "code",
   "execution_count": null,
   "id": "a410c668-c1af-4863-a957-35da733f8654",
   "metadata": {},
   "outputs": [],
   "source": []
  }
 ],
 "metadata": {
  "kernelspec": {
   "display_name": "Python 3 (ipykernel)",
   "language": "python",
   "name": "python3"
  },
  "language_info": {
   "codemirror_mode": {
    "name": "ipython",
    "version": 3
   },
   "file_extension": ".py",
   "mimetype": "text/x-python",
   "name": "python",
   "nbconvert_exporter": "python",
   "pygments_lexer": "ipython3",
   "version": "3.9.12"
  }
 },
 "nbformat": 4,
 "nbformat_minor": 5
}
