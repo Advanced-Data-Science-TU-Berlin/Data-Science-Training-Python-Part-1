{
 "cells": [
  {
   "cell_type": "code",
   "execution_count": 34,
   "id": "0ebfd7df",
   "metadata": {},
   "outputs": [],
   "source": [
    "from statistics import*"
   ]
  },
  {
   "cell_type": "code",
   "execution_count": 16,
   "id": "467729dc",
   "metadata": {},
   "outputs": [],
   "source": [
    "test_scores = [60 , 83, 83, 91,88,91,91,100]\n"
   ]
  },
  {
   "cell_type": "code",
   "execution_count": 17,
   "id": "fb3f050c",
   "metadata": {},
   "outputs": [
    {
     "data": {
      "text/plain": [
       "85.875"
      ]
     },
     "execution_count": 17,
     "metadata": {},
     "output_type": "execute_result"
    }
   ],
   "source": [
    "mean(test_scores)"
   ]
  },
  {
   "cell_type": "code",
   "execution_count": 18,
   "id": "f2726c83",
   "metadata": {
    "scrolled": true
   },
   "outputs": [
    {
     "data": {
      "text/plain": [
       "89.5"
      ]
     },
     "execution_count": 18,
     "metadata": {},
     "output_type": "execute_result"
    }
   ],
   "source": [
    "median(test_scores)"
   ]
  },
  {
   "cell_type": "code",
   "execution_count": 19,
   "id": "5997ef79",
   "metadata": {},
   "outputs": [
    {
     "data": {
      "text/plain": [
       "91"
      ]
     },
     "execution_count": 19,
     "metadata": {},
     "output_type": "execute_result"
    }
   ],
   "source": [
    "mode(test_scores)"
   ]
  },
  {
   "cell_type": "code",
   "execution_count": 28,
   "id": "e7df7d9b",
   "metadata": {},
   "outputs": [
    {
     "data": {
      "text/plain": [
       "11.764808297873547"
      ]
     },
     "execution_count": 28,
     "metadata": {},
     "output_type": "execute_result"
    }
   ],
   "source": [
    "stdev(test_scores)\n"
   ]
  },
  {
   "cell_type": "code",
   "execution_count": 29,
   "id": "aa761421",
   "metadata": {},
   "outputs": [
    {
     "data": {
      "text/plain": [
       "138.41071428571428"
      ]
     },
     "execution_count": 29,
     "metadata": {},
     "output_type": "execute_result"
    }
   ],
   "source": [
    "variance(test_scores)"
   ]
  },
  {
   "cell_type": "raw",
   "id": "a84e2f28",
   "metadata": {},
   "source": []
  },
  {
   "cell_type": "code",
   "execution_count": 30,
   "id": "39a9d777",
   "metadata": {},
   "outputs": [],
   "source": [
    "import statistics as st\n"
   ]
  },
  {
   "cell_type": "code",
   "execution_count": 31,
   "id": "b2272151",
   "metadata": {},
   "outputs": [
    {
     "data": {
      "text/plain": [
       "85.875"
      ]
     },
     "execution_count": 31,
     "metadata": {},
     "output_type": "execute_result"
    }
   ],
   "source": [
    "st.mean(test_scores)"
   ]
  },
  {
   "cell_type": "code",
   "execution_count": 32,
   "id": "08496bd8",
   "metadata": {},
   "outputs": [
    {
     "data": {
      "text/plain": [
       "11.764808297873547"
      ]
     },
     "execution_count": 32,
     "metadata": {},
     "output_type": "execute_result"
    }
   ],
   "source": [
    "st.stdev(test_scores)"
   ]
  },
  {
   "cell_type": "code",
   "execution_count": 33,
   "id": "7462ee9d",
   "metadata": {},
   "outputs": [
    {
     "data": {
      "text/plain": [
       "89.5"
      ]
     },
     "execution_count": 33,
     "metadata": {},
     "output_type": "execute_result"
    }
   ],
   "source": [
    "st.median(test_scores)"
   ]
  },
  {
   "cell_type": "code",
   "execution_count": 26,
   "id": "5fc70c43",
   "metadata": {},
   "outputs": [],
   "source": [
    "import pandas as pd"
   ]
  },
  {
   "cell_type": "code",
   "execution_count": 36,
   "id": "4e625db3",
   "metadata": {},
   "outputs": [
    {
     "name": "stdout",
     "output_type": "stream",
     "text": [
      "DataFrame:\n",
      "    X  Y  Z\n",
      "0   1  4  5\n",
      "1   2  3  6\n",
      "2   7  8  8\n",
      "3   5  2  6\n",
      "4  10  9  4\n"
     ]
    }
   ],
   "source": [
    "df = pd.DataFrame({'X': [1, 2, 7, 5, 10],\n",
    "                   'Y': [4, 3, 8, 2, 9],\n",
    "                  'Z':[5, 6, 8, 6, 4]})\n",
    "print(\"DataFrame:\")\n",
    "print(df)\n"
   ]
  },
  {
   "cell_type": "code",
   "execution_count": 37,
   "id": "0da80ed7",
   "metadata": {},
   "outputs": [
    {
     "name": "stdout",
     "output_type": "stream",
     "text": [
      "medians of Each Column:\n",
      "X    5.0\n",
      "Y    4.0\n",
      "Z    6.0\n",
      "dtype: float64\n"
     ]
    }
   ],
   "source": [
    "medians=df.median()\n",
    "print(\"medians of Each Column:\")\n",
    "print(medians)"
   ]
  },
  {
   "cell_type": "code",
   "execution_count": 38,
   "id": "271b0340",
   "metadata": {},
   "outputs": [
    {
     "name": "stdout",
     "output_type": "stream",
     "text": [
      "Means of Each Column:\n",
      "X    5.0\n",
      "Y    5.2\n",
      "Z    5.8\n",
      "dtype: float64\n"
     ]
    }
   ],
   "source": [
    "Means=df.mean()\n",
    "print(\"Means of Each Column:\")\n",
    "print(Means)"
   ]
  },
  {
   "cell_type": "code",
   "execution_count": 39,
   "id": "af389ca0",
   "metadata": {},
   "outputs": [
    {
     "name": "stdout",
     "output_type": "stream",
     "text": [
      "Standard Deviation of Each Column:\n",
      "X    3.674235\n",
      "Y    3.114482\n",
      "Z    1.483240\n",
      "dtype: float64\n"
     ]
    }
   ],
   "source": [
    "Standard_deviation=df.std()\n",
    "print(\"Standard Deviation of Each Column:\")\n",
    "print(Standard_deviation)"
   ]
  },
  {
   "cell_type": "code",
   "execution_count": 43,
   "id": "6da6dd65",
   "metadata": {},
   "outputs": [
    {
     "name": "stdout",
     "output_type": "stream",
     "text": [
      "0    4.0\n",
      "1    3.0\n",
      "2    8.0\n",
      "3    5.0\n",
      "4    9.0\n",
      "dtype: float64\n"
     ]
    }
   ],
   "source": [
    "mediansRaw=df.median(axis=1)\n",
    "print(mediansRaw)"
   ]
  },
  {
   "cell_type": "code",
   "execution_count": 44,
   "id": "99d78f5a",
   "metadata": {},
   "outputs": [
    {
     "name": "stdout",
     "output_type": "stream",
     "text": [
      "X    13.5\n",
      "Y     9.7\n",
      "Z     2.2\n",
      "dtype: float64\n"
     ]
    }
   ],
   "source": [
    "variance=df.var(axis=0)\n",
    "print(variance)"
   ]
  },
  {
   "cell_type": "code",
   "execution_count": null,
   "id": "daa2ff79",
   "metadata": {},
   "outputs": [],
   "source": []
  }
 ],
 "metadata": {
  "kernelspec": {
   "display_name": "Python 3 (ipykernel)",
   "language": "python",
   "name": "python3"
  },
  "language_info": {
   "codemirror_mode": {
    "name": "ipython",
    "version": 3
   },
   "file_extension": ".py",
   "mimetype": "text/x-python",
   "name": "python",
   "nbconvert_exporter": "python",
   "pygments_lexer": "ipython3",
   "version": "3.9.12"
  }
 },
 "nbformat": 4,
 "nbformat_minor": 5
}
