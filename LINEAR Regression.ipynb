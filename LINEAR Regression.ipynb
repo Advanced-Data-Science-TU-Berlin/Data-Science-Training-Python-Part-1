{
 "cells": [
  {
   "cell_type": "code",
   "execution_count": 1,
   "id": "b93717ad-54eb-48ab-9279-ad50cb80a3ac",
   "metadata": {},
   "outputs": [
    {
     "name": "stdout",
     "output_type": "stream",
     "text": [
      "Requirement already satisfied: numpy in ./opt/anaconda3/lib/python3.9/site-packages (1.21.5)\n",
      "Requirement already satisfied: scikit-learn in ./opt/anaconda3/lib/python3.9/site-packages (1.0.2)\n",
      "Requirement already satisfied: statsmodels in ./opt/anaconda3/lib/python3.9/site-packages (0.13.2)\n",
      "Requirement already satisfied: threadpoolctl>=2.0.0 in ./opt/anaconda3/lib/python3.9/site-packages (from scikit-learn) (2.2.0)\n",
      "Requirement already satisfied: scipy>=1.1.0 in ./opt/anaconda3/lib/python3.9/site-packages (from scikit-learn) (1.7.3)\n",
      "Requirement already satisfied: joblib>=0.11 in ./opt/anaconda3/lib/python3.9/site-packages (from scikit-learn) (1.1.0)\n",
      "Requirement already satisfied: patsy>=0.5.2 in ./opt/anaconda3/lib/python3.9/site-packages (from statsmodels) (0.5.2)\n",
      "Requirement already satisfied: pandas>=0.25 in ./opt/anaconda3/lib/python3.9/site-packages (from statsmodels) (1.4.2)\n",
      "Requirement already satisfied: packaging>=21.3 in ./opt/anaconda3/lib/python3.9/site-packages (from statsmodels) (21.3)\n",
      "Requirement already satisfied: pyparsing!=3.0.5,>=2.0.2 in ./opt/anaconda3/lib/python3.9/site-packages (from packaging>=21.3->statsmodels) (3.0.4)\n",
      "Requirement already satisfied: python-dateutil>=2.8.1 in ./opt/anaconda3/lib/python3.9/site-packages (from pandas>=0.25->statsmodels) (2.8.2)\n",
      "Requirement already satisfied: pytz>=2020.1 in ./opt/anaconda3/lib/python3.9/site-packages (from pandas>=0.25->statsmodels) (2021.3)\n",
      "Requirement already satisfied: six in ./opt/anaconda3/lib/python3.9/site-packages (from patsy>=0.5.2->statsmodels) (1.16.0)\n",
      "Note: you may need to restart the kernel to use updated packages.\n"
     ]
    }
   ],
   "source": [
    "pip install numpy scikit-learn statsmodels\n"
   ]
  },
  {
   "cell_type": "code",
   "execution_count": 2,
   "id": "88296373-369b-4b0c-85d1-0fa5d3f4ec27",
   "metadata": {},
   "outputs": [],
   "source": [
    "import numpy as np\n",
    "from sklearn.linear_model import LinearRegression"
   ]
  },
  {
   "cell_type": "code",
   "execution_count": 3,
   "id": "b236c87e-abb0-4655-960b-56bc1797c878",
   "metadata": {},
   "outputs": [],
   "source": [
    "import statsmodels.api as sm"
   ]
  },
  {
   "cell_type": "code",
   "execution_count": 4,
   "id": "d2210b72-3c0c-42de-9626-5a9212f4ce67",
   "metadata": {},
   "outputs": [
    {
     "name": "stderr",
     "output_type": "stream",
     "text": [
      "/Users/hamid/opt/anaconda3/lib/python3.9/site-packages/sklearn/utils/deprecation.py:87: FutureWarning: Function load_boston is deprecated; `load_boston` is deprecated in 1.0 and will be removed in 1.2.\n",
      "\n",
      "    The Boston housing prices dataset has an ethical problem. You can refer to\n",
      "    the documentation of this function for further details.\n",
      "\n",
      "    The scikit-learn maintainers therefore strongly discourage the use of this\n",
      "    dataset unless the purpose of the code is to study and educate about\n",
      "    ethical issues in data science and machine learning.\n",
      "\n",
      "    In this special case, you can fetch the dataset from the original\n",
      "    source::\n",
      "\n",
      "        import pandas as pd\n",
      "        import numpy as np\n",
      "\n",
      "\n",
      "        data_url = \"http://lib.stat.cmu.edu/datasets/boston\"\n",
      "        raw_df = pd.read_csv(data_url, sep=\"\\s+\", skiprows=22, header=None)\n",
      "        data = np.hstack([raw_df.values[::2, :], raw_df.values[1::2, :2]])\n",
      "        target = raw_df.values[1::2, 2]\n",
      "\n",
      "    Alternative datasets include the California housing dataset (i.e.\n",
      "    :func:`~sklearn.datasets.fetch_california_housing`) and the Ames housing\n",
      "    dataset. You can load the datasets as follows::\n",
      "\n",
      "        from sklearn.datasets import fetch_california_housing\n",
      "        housing = fetch_california_housing()\n",
      "\n",
      "    for the California housing dataset and::\n",
      "\n",
      "        from sklearn.datasets import fetch_openml\n",
      "        housing = fetch_openml(name=\"house_prices\", as_frame=True)\n",
      "\n",
      "    for the Ames housing dataset.\n",
      "    \n",
      "  warnings.warn(msg, category=FutureWarning)\n"
     ]
    }
   ],
   "source": [
    "from sklearn import datasets ## imports datasets from scikit-learn\n",
    "data = datasets.load_boston() ## loads Boston dataset from datasets library "
   ]
  },
  {
   "cell_type": "code",
   "execution_count": 5,
   "id": "d19ac3b1-26b7-4c12-8a0e-0339de5173cc",
   "metadata": {},
   "outputs": [],
   "source": [
    "import numpy as np\n",
    "import pandas as pd\n",
    "# define the data/predictors as the pre-set feature names  \n",
    "df = pd.DataFrame(data.data, columns=data.feature_names)\n",
    "\n",
    "# Put the target (housing value -- MEDV) in another DataFrame\n",
    "target = pd.DataFrame(data.target, columns=[\"MEDV\"])"
   ]
  },
  {
   "cell_type": "code",
   "execution_count": 6,
   "id": "8304d82e-24e4-4152-8575-d1299d01c4da",
   "metadata": {},
   "outputs": [
    {
     "data": {
      "text/html": [
       "<table class=\"simpletable\">\n",
       "<caption>OLS Regression Results</caption>\n",
       "<tr>\n",
       "  <th>Dep. Variable:</th>          <td>MEDV</td>       <th>  R-squared (uncentered):</th>      <td>   0.901</td> \n",
       "</tr>\n",
       "<tr>\n",
       "  <th>Model:</th>                   <td>OLS</td>       <th>  Adj. R-squared (uncentered):</th> <td>   0.901</td> \n",
       "</tr>\n",
       "<tr>\n",
       "  <th>Method:</th>             <td>Least Squares</td>  <th>  F-statistic:       </th>          <td>   4615.</td> \n",
       "</tr>\n",
       "<tr>\n",
       "  <th>Date:</th>             <td>Thu, 26 May 2022</td> <th>  Prob (F-statistic):</th>          <td>3.74e-256</td>\n",
       "</tr>\n",
       "<tr>\n",
       "  <th>Time:</th>                 <td>14:12:03</td>     <th>  Log-Likelihood:    </th>          <td> -1747.1</td> \n",
       "</tr>\n",
       "<tr>\n",
       "  <th>No. Observations:</th>      <td>   506</td>      <th>  AIC:               </th>          <td>   3496.</td> \n",
       "</tr>\n",
       "<tr>\n",
       "  <th>Df Residuals:</th>          <td>   505</td>      <th>  BIC:               </th>          <td>   3500.</td> \n",
       "</tr>\n",
       "<tr>\n",
       "  <th>Df Model:</th>              <td>     1</td>      <th>                     </th>              <td> </td>    \n",
       "</tr>\n",
       "<tr>\n",
       "  <th>Covariance Type:</th>      <td>nonrobust</td>    <th>                     </th>              <td> </td>    \n",
       "</tr>\n",
       "</table>\n",
       "<table class=\"simpletable\">\n",
       "<tr>\n",
       "   <td></td>     <th>coef</th>     <th>std err</th>      <th>t</th>      <th>P>|t|</th>  <th>[0.025</th>    <th>0.975]</th>  \n",
       "</tr>\n",
       "<tr>\n",
       "  <th>RM</th> <td>    3.6534</td> <td>    0.054</td> <td>   67.930</td> <td> 0.000</td> <td>    3.548</td> <td>    3.759</td>\n",
       "</tr>\n",
       "</table>\n",
       "<table class=\"simpletable\">\n",
       "<tr>\n",
       "  <th>Omnibus:</th>       <td>83.295</td> <th>  Durbin-Watson:     </th> <td>   0.493</td>\n",
       "</tr>\n",
       "<tr>\n",
       "  <th>Prob(Omnibus):</th> <td> 0.000</td> <th>  Jarque-Bera (JB):  </th> <td> 152.507</td>\n",
       "</tr>\n",
       "<tr>\n",
       "  <th>Skew:</th>          <td> 0.955</td> <th>  Prob(JB):          </th> <td>7.65e-34</td>\n",
       "</tr>\n",
       "<tr>\n",
       "  <th>Kurtosis:</th>      <td> 4.894</td> <th>  Cond. No.          </th> <td>    1.00</td>\n",
       "</tr>\n",
       "</table><br/><br/>Notes:<br/>[1] R² is computed without centering (uncentered) since the model does not contain a constant.<br/>[2] Standard Errors assume that the covariance matrix of the errors is correctly specified."
      ],
      "text/plain": [
       "<class 'statsmodels.iolib.summary.Summary'>\n",
       "\"\"\"\n",
       "                                 OLS Regression Results                                \n",
       "=======================================================================================\n",
       "Dep. Variable:                   MEDV   R-squared (uncentered):                   0.901\n",
       "Model:                            OLS   Adj. R-squared (uncentered):              0.901\n",
       "Method:                 Least Squares   F-statistic:                              4615.\n",
       "Date:                Thu, 26 May 2022   Prob (F-statistic):                   3.74e-256\n",
       "Time:                        14:12:03   Log-Likelihood:                         -1747.1\n",
       "No. Observations:                 506   AIC:                                      3496.\n",
       "Df Residuals:                     505   BIC:                                      3500.\n",
       "Df Model:                           1                                                  \n",
       "Covariance Type:            nonrobust                                                  \n",
       "==============================================================================\n",
       "                 coef    std err          t      P>|t|      [0.025      0.975]\n",
       "------------------------------------------------------------------------------\n",
       "RM             3.6534      0.054     67.930      0.000       3.548       3.759\n",
       "==============================================================================\n",
       "Omnibus:                       83.295   Durbin-Watson:                   0.493\n",
       "Prob(Omnibus):                  0.000   Jarque-Bera (JB):              152.507\n",
       "Skew:                           0.955   Prob(JB):                     7.65e-34\n",
       "Kurtosis:                       4.894   Cond. No.                         1.00\n",
       "==============================================================================\n",
       "\n",
       "Notes:\n",
       "[1] R² is computed without centering (uncentered) since the model does not contain a constant.\n",
       "[2] Standard Errors assume that the covariance matrix of the errors is correctly specified.\n",
       "\"\"\""
      ]
     },
     "execution_count": 6,
     "metadata": {},
     "output_type": "execute_result"
    }
   ],
   "source": [
    "## Without a constant\n",
    "\n",
    "import statsmodels.api as sm\n",
    "\n",
    "X = df[\"RM\"]\n",
    "y = target[\"MEDV\"]\n",
    "\n",
    "# Note the difference in argument order\n",
    "model = sm.OLS(y, X).fit()\n",
    "predictions = model.predict(X) # make the predictions by the model\n",
    "\n",
    "# Print out the statistics\n",
    "model.summary()"
   ]
  },
  {
   "cell_type": "code",
   "execution_count": 7,
   "id": "38931fe6-fe66-4b0d-b861-20f5e30f5696",
   "metadata": {},
   "outputs": [
    {
     "data": {
      "text/html": [
       "<table class=\"simpletable\">\n",
       "<caption>OLS Regression Results</caption>\n",
       "<tr>\n",
       "  <th>Dep. Variable:</th>          <td>MEDV</td>       <th>  R-squared:         </th> <td>   0.484</td>\n",
       "</tr>\n",
       "<tr>\n",
       "  <th>Model:</th>                   <td>OLS</td>       <th>  Adj. R-squared:    </th> <td>   0.483</td>\n",
       "</tr>\n",
       "<tr>\n",
       "  <th>Method:</th>             <td>Least Squares</td>  <th>  F-statistic:       </th> <td>   471.8</td>\n",
       "</tr>\n",
       "<tr>\n",
       "  <th>Date:</th>             <td>Thu, 26 May 2022</td> <th>  Prob (F-statistic):</th> <td>2.49e-74</td>\n",
       "</tr>\n",
       "<tr>\n",
       "  <th>Time:</th>                 <td>14:12:31</td>     <th>  Log-Likelihood:    </th> <td> -1673.1</td>\n",
       "</tr>\n",
       "<tr>\n",
       "  <th>No. Observations:</th>      <td>   506</td>      <th>  AIC:               </th> <td>   3350.</td>\n",
       "</tr>\n",
       "<tr>\n",
       "  <th>Df Residuals:</th>          <td>   504</td>      <th>  BIC:               </th> <td>   3359.</td>\n",
       "</tr>\n",
       "<tr>\n",
       "  <th>Df Model:</th>              <td>     1</td>      <th>                     </th>     <td> </td>   \n",
       "</tr>\n",
       "<tr>\n",
       "  <th>Covariance Type:</th>      <td>nonrobust</td>    <th>                     </th>     <td> </td>   \n",
       "</tr>\n",
       "</table>\n",
       "<table class=\"simpletable\">\n",
       "<tr>\n",
       "    <td></td>       <th>coef</th>     <th>std err</th>      <th>t</th>      <th>P>|t|</th>  <th>[0.025</th>    <th>0.975]</th>  \n",
       "</tr>\n",
       "<tr>\n",
       "  <th>const</th> <td>  -34.6706</td> <td>    2.650</td> <td>  -13.084</td> <td> 0.000</td> <td>  -39.877</td> <td>  -29.465</td>\n",
       "</tr>\n",
       "<tr>\n",
       "  <th>RM</th>    <td>    9.1021</td> <td>    0.419</td> <td>   21.722</td> <td> 0.000</td> <td>    8.279</td> <td>    9.925</td>\n",
       "</tr>\n",
       "</table>\n",
       "<table class=\"simpletable\">\n",
       "<tr>\n",
       "  <th>Omnibus:</th>       <td>102.585</td> <th>  Durbin-Watson:     </th> <td>   0.684</td> \n",
       "</tr>\n",
       "<tr>\n",
       "  <th>Prob(Omnibus):</th> <td> 0.000</td>  <th>  Jarque-Bera (JB):  </th> <td> 612.449</td> \n",
       "</tr>\n",
       "<tr>\n",
       "  <th>Skew:</th>          <td> 0.726</td>  <th>  Prob(JB):          </th> <td>1.02e-133</td>\n",
       "</tr>\n",
       "<tr>\n",
       "  <th>Kurtosis:</th>      <td> 8.190</td>  <th>  Cond. No.          </th> <td>    58.4</td> \n",
       "</tr>\n",
       "</table><br/><br/>Notes:<br/>[1] Standard Errors assume that the covariance matrix of the errors is correctly specified."
      ],
      "text/plain": [
       "<class 'statsmodels.iolib.summary.Summary'>\n",
       "\"\"\"\n",
       "                            OLS Regression Results                            \n",
       "==============================================================================\n",
       "Dep. Variable:                   MEDV   R-squared:                       0.484\n",
       "Model:                            OLS   Adj. R-squared:                  0.483\n",
       "Method:                 Least Squares   F-statistic:                     471.8\n",
       "Date:                Thu, 26 May 2022   Prob (F-statistic):           2.49e-74\n",
       "Time:                        14:12:31   Log-Likelihood:                -1673.1\n",
       "No. Observations:                 506   AIC:                             3350.\n",
       "Df Residuals:                     504   BIC:                             3359.\n",
       "Df Model:                           1                                         \n",
       "Covariance Type:            nonrobust                                         \n",
       "==============================================================================\n",
       "                 coef    std err          t      P>|t|      [0.025      0.975]\n",
       "------------------------------------------------------------------------------\n",
       "const        -34.6706      2.650    -13.084      0.000     -39.877     -29.465\n",
       "RM             9.1021      0.419     21.722      0.000       8.279       9.925\n",
       "==============================================================================\n",
       "Omnibus:                      102.585   Durbin-Watson:                   0.684\n",
       "Prob(Omnibus):                  0.000   Jarque-Bera (JB):              612.449\n",
       "Skew:                           0.726   Prob(JB):                    1.02e-133\n",
       "Kurtosis:                       8.190   Cond. No.                         58.4\n",
       "==============================================================================\n",
       "\n",
       "Notes:\n",
       "[1] Standard Errors assume that the covariance matrix of the errors is correctly specified.\n",
       "\"\"\""
      ]
     },
     "execution_count": 7,
     "metadata": {},
     "output_type": "execute_result"
    }
   ],
   "source": [
    "import statsmodels.api as sm # import statsmodels \n",
    "\n",
    "X = df[\"RM\"] ## X usually means our input variables (or independent variables)\n",
    "y = target[\"MEDV\"] ## Y usually means our output/dependent variable\n",
    "X = sm.add_constant(X) ## let's add an intercept (beta_0) to our model\n",
    "\n",
    "# Note the difference in argument order\n",
    "model = sm.OLS(y, X).fit() ## sm.OLS(output, input)\n",
    "predictions = model.predict(X)\n",
    "\n",
    "# Print out the statistics\n",
    "model.summary()"
   ]
  },
  {
   "cell_type": "code",
   "execution_count": 11,
   "id": "e94ba43f-eb1f-4eab-8257-eb0c0d6be84f",
   "metadata": {},
   "outputs": [
    {
     "data": {
      "text/html": [
       "<table class=\"simpletable\">\n",
       "<caption>OLS Regression Results</caption>\n",
       "<tr>\n",
       "  <th>Dep. Variable:</th>          <td>MEDV</td>       <th>  R-squared (uncentered):</th>      <td>   0.948</td>\n",
       "</tr>\n",
       "<tr>\n",
       "  <th>Model:</th>                   <td>OLS</td>       <th>  Adj. R-squared (uncentered):</th> <td>   0.948</td>\n",
       "</tr>\n",
       "<tr>\n",
       "  <th>Method:</th>             <td>Least Squares</td>  <th>  F-statistic:       </th>          <td>   4637.</td>\n",
       "</tr>\n",
       "<tr>\n",
       "  <th>Date:</th>             <td>Thu, 26 May 2022</td> <th>  Prob (F-statistic):</th>           <td>  0.00</td> \n",
       "</tr>\n",
       "<tr>\n",
       "  <th>Time:</th>                 <td>14:15:33</td>     <th>  Log-Likelihood:    </th>          <td> -1582.9</td>\n",
       "</tr>\n",
       "<tr>\n",
       "  <th>No. Observations:</th>      <td>   506</td>      <th>  AIC:               </th>          <td>   3170.</td>\n",
       "</tr>\n",
       "<tr>\n",
       "  <th>Df Residuals:</th>          <td>   504</td>      <th>  BIC:               </th>          <td>   3178.</td>\n",
       "</tr>\n",
       "<tr>\n",
       "  <th>Df Model:</th>              <td>     2</td>      <th>                     </th>              <td> </td>   \n",
       "</tr>\n",
       "<tr>\n",
       "  <th>Covariance Type:</th>      <td>nonrobust</td>    <th>                     </th>              <td> </td>   \n",
       "</tr>\n",
       "</table>\n",
       "<table class=\"simpletable\">\n",
       "<tr>\n",
       "    <td></td>       <th>coef</th>     <th>std err</th>      <th>t</th>      <th>P>|t|</th>  <th>[0.025</th>    <th>0.975]</th>  \n",
       "</tr>\n",
       "<tr>\n",
       "  <th>RM</th>    <td>    4.9069</td> <td>    0.070</td> <td>   69.906</td> <td> 0.000</td> <td>    4.769</td> <td>    5.045</td>\n",
       "</tr>\n",
       "<tr>\n",
       "  <th>LSTAT</th> <td>   -0.6557</td> <td>    0.031</td> <td>  -21.458</td> <td> 0.000</td> <td>   -0.716</td> <td>   -0.596</td>\n",
       "</tr>\n",
       "</table>\n",
       "<table class=\"simpletable\">\n",
       "<tr>\n",
       "  <th>Omnibus:</th>       <td>145.153</td> <th>  Durbin-Watson:     </th> <td>   0.834</td>\n",
       "</tr>\n",
       "<tr>\n",
       "  <th>Prob(Omnibus):</th> <td> 0.000</td>  <th>  Jarque-Bera (JB):  </th> <td> 442.157</td>\n",
       "</tr>\n",
       "<tr>\n",
       "  <th>Skew:</th>          <td> 1.351</td>  <th>  Prob(JB):          </th> <td>9.70e-97</td>\n",
       "</tr>\n",
       "<tr>\n",
       "  <th>Kurtosis:</th>      <td> 6.698</td>  <th>  Cond. No.          </th> <td>    4.72</td>\n",
       "</tr>\n",
       "</table><br/><br/>Notes:<br/>[1] R² is computed without centering (uncentered) since the model does not contain a constant.<br/>[2] Standard Errors assume that the covariance matrix of the errors is correctly specified."
      ],
      "text/plain": [
       "<class 'statsmodels.iolib.summary.Summary'>\n",
       "\"\"\"\n",
       "                                 OLS Regression Results                                \n",
       "=======================================================================================\n",
       "Dep. Variable:                   MEDV   R-squared (uncentered):                   0.948\n",
       "Model:                            OLS   Adj. R-squared (uncentered):              0.948\n",
       "Method:                 Least Squares   F-statistic:                              4637.\n",
       "Date:                Thu, 26 May 2022   Prob (F-statistic):                        0.00\n",
       "Time:                        14:15:33   Log-Likelihood:                         -1582.9\n",
       "No. Observations:                 506   AIC:                                      3170.\n",
       "Df Residuals:                     504   BIC:                                      3178.\n",
       "Df Model:                           2                                                  \n",
       "Covariance Type:            nonrobust                                                  \n",
       "==============================================================================\n",
       "                 coef    std err          t      P>|t|      [0.025      0.975]\n",
       "------------------------------------------------------------------------------\n",
       "RM             4.9069      0.070     69.906      0.000       4.769       5.045\n",
       "LSTAT         -0.6557      0.031    -21.458      0.000      -0.716      -0.596\n",
       "==============================================================================\n",
       "Omnibus:                      145.153   Durbin-Watson:                   0.834\n",
       "Prob(Omnibus):                  0.000   Jarque-Bera (JB):              442.157\n",
       "Skew:                           1.351   Prob(JB):                     9.70e-97\n",
       "Kurtosis:                       6.698   Cond. No.                         4.72\n",
       "==============================================================================\n",
       "\n",
       "Notes:\n",
       "[1] R² is computed without centering (uncentered) since the model does not contain a constant.\n",
       "[2] Standard Errors assume that the covariance matrix of the errors is correctly specified.\n",
       "\"\"\""
      ]
     },
     "execution_count": 11,
     "metadata": {},
     "output_type": "execute_result"
    }
   ],
   "source": [
    "X = df[[\"RM\", \"LSTAT\"]]\n",
    "y = target[\"MEDV\"]\n",
    "model = sm.OLS(y, X).fit()\n",
    "predictions = model.predict(X)\n",
    "model.summary()"
   ]
  },
  {
   "cell_type": "code",
   "execution_count": 12,
   "id": "3f9bf786-495f-4def-8629-115a2647ccde",
   "metadata": {},
   "outputs": [
    {
     "data": {
      "text/html": [
       "<table class=\"simpletable\">\n",
       "<caption>OLS Regression Results</caption>\n",
       "<tr>\n",
       "  <th>Dep. Variable:</th>          <td>MEDV</td>       <th>  R-squared:         </th> <td>   0.484</td>\n",
       "</tr>\n",
       "<tr>\n",
       "  <th>Model:</th>                   <td>OLS</td>       <th>  Adj. R-squared:    </th> <td>   0.483</td>\n",
       "</tr>\n",
       "<tr>\n",
       "  <th>Method:</th>             <td>Least Squares</td>  <th>  F-statistic:       </th> <td>   471.8</td>\n",
       "</tr>\n",
       "<tr>\n",
       "  <th>Date:</th>             <td>Thu, 26 May 2022</td> <th>  Prob (F-statistic):</th> <td>2.49e-74</td>\n",
       "</tr>\n",
       "<tr>\n",
       "  <th>Time:</th>                 <td>14:16:37</td>     <th>  Log-Likelihood:    </th> <td> -1673.1</td>\n",
       "</tr>\n",
       "<tr>\n",
       "  <th>No. Observations:</th>      <td>   506</td>      <th>  AIC:               </th> <td>   3350.</td>\n",
       "</tr>\n",
       "<tr>\n",
       "  <th>Df Residuals:</th>          <td>   504</td>      <th>  BIC:               </th> <td>   3359.</td>\n",
       "</tr>\n",
       "<tr>\n",
       "  <th>Df Model:</th>              <td>     1</td>      <th>                     </th>     <td> </td>   \n",
       "</tr>\n",
       "<tr>\n",
       "  <th>Covariance Type:</th>      <td>nonrobust</td>    <th>                     </th>     <td> </td>   \n",
       "</tr>\n",
       "</table>\n",
       "<table class=\"simpletable\">\n",
       "<tr>\n",
       "    <td></td>       <th>coef</th>     <th>std err</th>      <th>t</th>      <th>P>|t|</th>  <th>[0.025</th>    <th>0.975]</th>  \n",
       "</tr>\n",
       "<tr>\n",
       "  <th>const</th> <td>  -34.6706</td> <td>    2.650</td> <td>  -13.084</td> <td> 0.000</td> <td>  -39.877</td> <td>  -29.465</td>\n",
       "</tr>\n",
       "<tr>\n",
       "  <th>RM</th>    <td>    9.1021</td> <td>    0.419</td> <td>   21.722</td> <td> 0.000</td> <td>    8.279</td> <td>    9.925</td>\n",
       "</tr>\n",
       "</table>\n",
       "<table class=\"simpletable\">\n",
       "<tr>\n",
       "  <th>Omnibus:</th>       <td>102.585</td> <th>  Durbin-Watson:     </th> <td>   0.684</td> \n",
       "</tr>\n",
       "<tr>\n",
       "  <th>Prob(Omnibus):</th> <td> 0.000</td>  <th>  Jarque-Bera (JB):  </th> <td> 612.449</td> \n",
       "</tr>\n",
       "<tr>\n",
       "  <th>Skew:</th>          <td> 0.726</td>  <th>  Prob(JB):          </th> <td>1.02e-133</td>\n",
       "</tr>\n",
       "<tr>\n",
       "  <th>Kurtosis:</th>      <td> 8.190</td>  <th>  Cond. No.          </th> <td>    58.4</td> \n",
       "</tr>\n",
       "</table><br/><br/>Notes:<br/>[1] Standard Errors assume that the covariance matrix of the errors is correctly specified."
      ],
      "text/plain": [
       "<class 'statsmodels.iolib.summary.Summary'>\n",
       "\"\"\"\n",
       "                            OLS Regression Results                            \n",
       "==============================================================================\n",
       "Dep. Variable:                   MEDV   R-squared:                       0.484\n",
       "Model:                            OLS   Adj. R-squared:                  0.483\n",
       "Method:                 Least Squares   F-statistic:                     471.8\n",
       "Date:                Thu, 26 May 2022   Prob (F-statistic):           2.49e-74\n",
       "Time:                        14:16:37   Log-Likelihood:                -1673.1\n",
       "No. Observations:                 506   AIC:                             3350.\n",
       "Df Residuals:                     504   BIC:                             3359.\n",
       "Df Model:                           1                                         \n",
       "Covariance Type:            nonrobust                                         \n",
       "==============================================================================\n",
       "                 coef    std err          t      P>|t|      [0.025      0.975]\n",
       "------------------------------------------------------------------------------\n",
       "const        -34.6706      2.650    -13.084      0.000     -39.877     -29.465\n",
       "RM             9.1021      0.419     21.722      0.000       8.279       9.925\n",
       "==============================================================================\n",
       "Omnibus:                      102.585   Durbin-Watson:                   0.684\n",
       "Prob(Omnibus):                  0.000   Jarque-Bera (JB):              612.449\n",
       "Skew:                           0.726   Prob(JB):                    1.02e-133\n",
       "Kurtosis:                       8.190   Cond. No.                         58.4\n",
       "==============================================================================\n",
       "\n",
       "Notes:\n",
       "[1] Standard Errors assume that the covariance matrix of the errors is correctly specified.\n",
       "\"\"\""
      ]
     },
     "execution_count": 12,
     "metadata": {},
     "output_type": "execute_result"
    }
   ],
   "source": [
    "import statsmodels.api as sm # import statsmodels \n",
    "\n",
    "X = df[\"RM\"] ## X usually means our input variables (or independent variables)\n",
    "y = target[\"MEDV\"] ## Y usually means our output/dependent variable\n",
    "X = sm.add_constant(X) ## let's add an intercept (beta_0) to our model\n",
    "\n",
    "# Note the difference in argument order\n",
    "model = sm.OLS(y, X).fit() ## sm.OLS(output, input)\n",
    "predictions = model.predict(X)\n",
    "\n",
    "# Print out the statistics\n",
    "model.summary()"
   ]
  },
  {
   "cell_type": "code",
   "execution_count": 14,
   "id": "195e92c0-47c1-4b70-a69b-14f9caf12fad",
   "metadata": {},
   "outputs": [
    {
     "data": {
      "text/html": [
       "<table class=\"simpletable\">\n",
       "<caption>OLS Regression Results</caption>\n",
       "<tr>\n",
       "  <th>Dep. Variable:</th>          <td>MEDV</td>       <th>  R-squared (uncentered):</th>      <td>   0.948</td>\n",
       "</tr>\n",
       "<tr>\n",
       "  <th>Model:</th>                   <td>OLS</td>       <th>  Adj. R-squared (uncentered):</th> <td>   0.948</td>\n",
       "</tr>\n",
       "<tr>\n",
       "  <th>Method:</th>             <td>Least Squares</td>  <th>  F-statistic:       </th>          <td>   4637.</td>\n",
       "</tr>\n",
       "<tr>\n",
       "  <th>Date:</th>             <td>Thu, 26 May 2022</td> <th>  Prob (F-statistic):</th>           <td>  0.00</td> \n",
       "</tr>\n",
       "<tr>\n",
       "  <th>Time:</th>                 <td>14:17:47</td>     <th>  Log-Likelihood:    </th>          <td> -1582.9</td>\n",
       "</tr>\n",
       "<tr>\n",
       "  <th>No. Observations:</th>      <td>   506</td>      <th>  AIC:               </th>          <td>   3170.</td>\n",
       "</tr>\n",
       "<tr>\n",
       "  <th>Df Residuals:</th>          <td>   504</td>      <th>  BIC:               </th>          <td>   3178.</td>\n",
       "</tr>\n",
       "<tr>\n",
       "  <th>Df Model:</th>              <td>     2</td>      <th>                     </th>              <td> </td>   \n",
       "</tr>\n",
       "<tr>\n",
       "  <th>Covariance Type:</th>      <td>nonrobust</td>    <th>                     </th>              <td> </td>   \n",
       "</tr>\n",
       "</table>\n",
       "<table class=\"simpletable\">\n",
       "<tr>\n",
       "    <td></td>       <th>coef</th>     <th>std err</th>      <th>t</th>      <th>P>|t|</th>  <th>[0.025</th>    <th>0.975]</th>  \n",
       "</tr>\n",
       "<tr>\n",
       "  <th>RM</th>    <td>    4.9069</td> <td>    0.070</td> <td>   69.906</td> <td> 0.000</td> <td>    4.769</td> <td>    5.045</td>\n",
       "</tr>\n",
       "<tr>\n",
       "  <th>LSTAT</th> <td>   -0.6557</td> <td>    0.031</td> <td>  -21.458</td> <td> 0.000</td> <td>   -0.716</td> <td>   -0.596</td>\n",
       "</tr>\n",
       "</table>\n",
       "<table class=\"simpletable\">\n",
       "<tr>\n",
       "  <th>Omnibus:</th>       <td>145.153</td> <th>  Durbin-Watson:     </th> <td>   0.834</td>\n",
       "</tr>\n",
       "<tr>\n",
       "  <th>Prob(Omnibus):</th> <td> 0.000</td>  <th>  Jarque-Bera (JB):  </th> <td> 442.157</td>\n",
       "</tr>\n",
       "<tr>\n",
       "  <th>Skew:</th>          <td> 1.351</td>  <th>  Prob(JB):          </th> <td>9.70e-97</td>\n",
       "</tr>\n",
       "<tr>\n",
       "  <th>Kurtosis:</th>      <td> 6.698</td>  <th>  Cond. No.          </th> <td>    4.72</td>\n",
       "</tr>\n",
       "</table><br/><br/>Notes:<br/>[1] R² is computed without centering (uncentered) since the model does not contain a constant.<br/>[2] Standard Errors assume that the covariance matrix of the errors is correctly specified."
      ],
      "text/plain": [
       "<class 'statsmodels.iolib.summary.Summary'>\n",
       "\"\"\"\n",
       "                                 OLS Regression Results                                \n",
       "=======================================================================================\n",
       "Dep. Variable:                   MEDV   R-squared (uncentered):                   0.948\n",
       "Model:                            OLS   Adj. R-squared (uncentered):              0.948\n",
       "Method:                 Least Squares   F-statistic:                              4637.\n",
       "Date:                Thu, 26 May 2022   Prob (F-statistic):                        0.00\n",
       "Time:                        14:17:47   Log-Likelihood:                         -1582.9\n",
       "No. Observations:                 506   AIC:                                      3170.\n",
       "Df Residuals:                     504   BIC:                                      3178.\n",
       "Df Model:                           2                                                  \n",
       "Covariance Type:            nonrobust                                                  \n",
       "==============================================================================\n",
       "                 coef    std err          t      P>|t|      [0.025      0.975]\n",
       "------------------------------------------------------------------------------\n",
       "RM             4.9069      0.070     69.906      0.000       4.769       5.045\n",
       "LSTAT         -0.6557      0.031    -21.458      0.000      -0.716      -0.596\n",
       "==============================================================================\n",
       "Omnibus:                      145.153   Durbin-Watson:                   0.834\n",
       "Prob(Omnibus):                  0.000   Jarque-Bera (JB):              442.157\n",
       "Skew:                           1.351   Prob(JB):                     9.70e-97\n",
       "Kurtosis:                       6.698   Cond. No.                         4.72\n",
       "==============================================================================\n",
       "\n",
       "Notes:\n",
       "[1] R² is computed without centering (uncentered) since the model does not contain a constant.\n",
       "[2] Standard Errors assume that the covariance matrix of the errors is correctly specified.\n",
       "\"\"\""
      ]
     },
     "execution_count": 14,
     "metadata": {},
     "output_type": "execute_result"
    }
   ],
   "source": [
    "X = df[[\"RM\", \"LSTAT\"]]\n",
    "y = target[\"MEDV\"]\n",
    "model = sm.OLS(y, X).fit()\n",
    "predictions = model.predict(X)\n",
    "model.summary()"
   ]
  },
  {
   "cell_type": "code",
   "execution_count": 15,
   "id": "ffb84dc1-af42-4f37-ba0c-6b54888f7780",
   "metadata": {},
   "outputs": [],
   "source": [
    "from sklearn import linear_model\n"
   ]
  },
  {
   "cell_type": "code",
   "execution_count": 16,
   "id": "02058d2d-90ab-4fdb-8a6c-21a8336c5a9c",
   "metadata": {},
   "outputs": [
    {
     "name": "stderr",
     "output_type": "stream",
     "text": [
      "/Users/hamid/opt/anaconda3/lib/python3.9/site-packages/sklearn/utils/deprecation.py:87: FutureWarning: Function load_boston is deprecated; `load_boston` is deprecated in 1.0 and will be removed in 1.2.\n",
      "\n",
      "    The Boston housing prices dataset has an ethical problem. You can refer to\n",
      "    the documentation of this function for further details.\n",
      "\n",
      "    The scikit-learn maintainers therefore strongly discourage the use of this\n",
      "    dataset unless the purpose of the code is to study and educate about\n",
      "    ethical issues in data science and machine learning.\n",
      "\n",
      "    In this special case, you can fetch the dataset from the original\n",
      "    source::\n",
      "\n",
      "        import pandas as pd\n",
      "        import numpy as np\n",
      "\n",
      "\n",
      "        data_url = \"http://lib.stat.cmu.edu/datasets/boston\"\n",
      "        raw_df = pd.read_csv(data_url, sep=\"\\s+\", skiprows=22, header=None)\n",
      "        data = np.hstack([raw_df.values[::2, :], raw_df.values[1::2, :2]])\n",
      "        target = raw_df.values[1::2, 2]\n",
      "\n",
      "    Alternative datasets include the California housing dataset (i.e.\n",
      "    :func:`~sklearn.datasets.fetch_california_housing`) and the Ames housing\n",
      "    dataset. You can load the datasets as follows::\n",
      "\n",
      "        from sklearn.datasets import fetch_california_housing\n",
      "        housing = fetch_california_housing()\n",
      "\n",
      "    for the California housing dataset and::\n",
      "\n",
      "        from sklearn.datasets import fetch_openml\n",
      "        housing = fetch_openml(name=\"house_prices\", as_frame=True)\n",
      "\n",
      "    for the Ames housing dataset.\n",
      "    \n",
      "  warnings.warn(msg, category=FutureWarning)\n"
     ]
    }
   ],
   "source": [
    "from sklearn import datasets ## imports datasets from scikit-learn\n",
    "data = datasets.load_boston() ## loads Boston dataset from datasets library\n"
   ]
  },
  {
   "cell_type": "code",
   "execution_count": 17,
   "id": "e7e3b0da-2bf5-4c3b-b428-32558847374b",
   "metadata": {},
   "outputs": [],
   "source": [
    "# define the data/predictors as the pre-set feature names  \n",
    "df = pd.DataFrame(data.data, columns=data.feature_names)\n",
    "\n",
    "# Put the target (housing value -- MEDV) in another DataFrame\n",
    "target = pd.DataFrame(data.target, columns=[\"MEDV\"])"
   ]
  },
  {
   "cell_type": "code",
   "execution_count": 18,
   "id": "bce26aff-0c95-49b4-9732-7ea89757bd62",
   "metadata": {},
   "outputs": [
    {
     "ename": "SyntaxError",
     "evalue": "invalid character '“' (U+201C) (3737122631.py, line 2)",
     "output_type": "error",
     "traceback": [
      "\u001b[0;36m  Input \u001b[0;32mIn [18]\u001b[0;36m\u001b[0m\n\u001b[0;31m    y = target[“MEDV”]\u001b[0m\n\u001b[0m               ^\u001b[0m\n\u001b[0;31mSyntaxError\u001b[0m\u001b[0;31m:\u001b[0m invalid character '“' (U+201C)\n"
     ]
    }
   ],
   "source": [
    "X = df\n",
    "y = target[“MEDV”]"
   ]
  },
  {
   "cell_type": "code",
   "execution_count": 19,
   "id": "58dc5e0c-8f7e-4e86-959f-29b05f0190b4",
   "metadata": {},
   "outputs": [],
   "source": [
    "X = df\n",
    "y = target[\"MEDV\"]"
   ]
  },
  {
   "cell_type": "code",
   "execution_count": 20,
   "id": "2ee1cf31-dc07-448f-800a-dd92d157db7d",
   "metadata": {},
   "outputs": [],
   "source": [
    "lm = linear_model.LinearRegression()\n",
    "model = lm.fit(X,y)"
   ]
  },
  {
   "cell_type": "code",
   "execution_count": 24,
   "id": "a36a7c7d-4f15-4641-8b1b-6bff6417809c",
   "metadata": {},
   "outputs": [],
   "source": [
    "predictions = lm.predict(X)\n"
   ]
  },
  {
   "cell_type": "code",
   "execution_count": 25,
   "id": "2a59391d-f99f-4872-958c-c74d43cfede5",
   "metadata": {},
   "outputs": [
    {
     "data": {
      "text/plain": [
       "0.7406426641094095"
      ]
     },
     "execution_count": 25,
     "metadata": {},
     "output_type": "execute_result"
    }
   ],
   "source": [
    "lm.score(X,y)\n"
   ]
  },
  {
   "cell_type": "code",
   "execution_count": 26,
   "id": "a5e22d02-726b-4394-b7c5-2511c2a18ed0",
   "metadata": {},
   "outputs": [
    {
     "name": "stdout",
     "output_type": "stream",
     "text": [
      "[30.00384338 25.02556238 30.56759672 28.60703649 27.94352423 25.25628446\n",
      " 23.00180827 19.53598843 11.52363685 18.92026211 18.99949651 21.58679568\n",
      " 20.90652153 19.55290281 19.28348205 19.29748321 20.52750979 16.91140135\n",
      " 16.17801106 18.40613603 12.52385753 17.67103669 15.83288129 13.80628535\n",
      " 15.67833832 13.38668561 15.46397655 14.70847428 19.54737285 20.8764282\n",
      " 11.45511759 18.05923295  8.81105736 14.28275814 13.70675891 23.81463526\n",
      " 22.34193708 23.10891142 22.91502612 31.35762569 34.21510225 28.02056414\n",
      " 25.20386628 24.60979273 22.94149176 22.09669817 20.42320032 18.03655088\n",
      "  9.10655377 17.20607751 21.28152535 23.97222285 27.6558508  24.04901809\n",
      " 15.3618477  31.15264947 24.85686978 33.10919806 21.77537987 21.08493555\n",
      " 17.8725804  18.51110208 23.98742856 22.55408869 23.37308644 30.36148358\n",
      " 25.53056512 21.11338564 17.42153786 20.78483633 25.20148859 21.7426577\n",
      " 24.55744957 24.04295712 25.50499716 23.9669302  22.94545403 23.35699818\n",
      " 21.26198266 22.42817373 28.40576968 26.99486086 26.03576297 25.05873482\n",
      " 24.78456674 27.79049195 22.16853423 25.89276415 30.67461827 30.83110623\n",
      " 27.1190194  27.41266734 28.94122762 29.08105546 27.03977365 28.62459949\n",
      " 24.72744978 35.78159518 35.11454587 32.25102801 24.58022019 25.59413475\n",
      " 19.79013684 20.31167129 21.43482591 18.53994008 17.18755992 20.75049026\n",
      " 22.64829115 19.7720367  20.64965864 26.52586744 20.77323638 20.71548315\n",
      " 25.17208881 20.43025591 23.37724626 23.69043261 20.33578364 20.79180873\n",
      " 21.91632071 22.47107777 20.55738556 16.36661977 20.56099819 22.48178446\n",
      " 14.61706633 15.17876684 18.93868592 14.05573285 20.03527399 19.41013402\n",
      " 20.06191566 15.75807673 13.25645238 17.26277735 15.87841883 19.36163954\n",
      " 13.81483897 16.44881475 13.57141932  3.98885508 14.59495478 12.1488148\n",
      "  8.72822362 12.03585343 15.82082058  8.5149902   9.71844139 14.80451374\n",
      " 20.83858153 18.30101169 20.12282558 17.28601894 22.36600228 20.10375923\n",
      " 13.62125891 33.25982697 29.03017268 25.56752769 32.70827666 36.77467015\n",
      " 40.55765844 41.84728168 24.78867379 25.37889238 37.20347455 23.08748747\n",
      " 26.40273955 26.65382114 22.5551466  24.29082812 22.97657219 29.07194308\n",
      " 26.5219434  30.72209056 25.61669307 29.13740979 31.43571968 32.92231568\n",
      " 34.72440464 27.76552111 33.88787321 30.99238036 22.71820008 24.7664781\n",
      " 35.88497226 33.42476722 32.41199147 34.51509949 30.76109485 30.28934141\n",
      " 32.91918714 32.11260771 31.55871004 40.84555721 36.12770079 32.6692081\n",
      " 34.70469116 30.09345162 30.64393906 29.28719501 37.07148392 42.03193124\n",
      " 43.18949844 22.69034796 23.68284712 17.85447214 23.49428992 17.00587718\n",
      " 22.39251096 17.06042754 22.73892921 25.21942554 11.11916737 24.51049148\n",
      " 26.60334775 28.35518713 24.91525464 29.68652768 33.18419746 23.77456656\n",
      " 32.14051958 29.7458199  38.37102453 39.81461867 37.58605755 32.3995325\n",
      " 35.45665242 31.23411512 24.48449227 33.28837292 38.0481048  37.16328631\n",
      " 31.71383523 25.26705571 30.10010745 32.71987156 28.42717057 28.42940678\n",
      " 27.29375938 23.74262478 24.12007891 27.40208414 16.3285756  13.39891261\n",
      " 20.01638775 19.86184428 21.2883131  24.0798915  24.20633547 25.04215821\n",
      " 24.91964007 29.94563374 23.97228316 21.69580887 37.51109239 43.30239043\n",
      " 36.48361421 34.98988594 34.81211508 37.16631331 40.98928501 34.44634089\n",
      " 35.83397547 28.245743   31.22673593 40.8395575  39.31792393 25.70817905\n",
      " 22.30295533 27.20340972 28.51169472 35.47676598 36.10639164 33.79668274\n",
      " 35.61085858 34.83993382 30.35192656 35.30980701 38.79756966 34.33123186\n",
      " 40.33963075 44.67308339 31.59689086 27.3565923  20.10174154 27.04206674\n",
      " 27.2136458  26.91395839 33.43563311 34.40349633 31.8333982  25.81783237\n",
      " 24.42982348 28.45764337 27.36266999 19.53928758 29.11309844 31.91054611\n",
      " 30.77159449 28.94275871 28.88191022 32.79887232 33.20905456 30.76831792\n",
      " 35.56226857 32.70905124 28.64244237 23.58965827 18.54266897 26.87889843\n",
      " 23.28133979 25.54580246 25.48120057 20.53909901 17.61572573 18.37581686\n",
      " 24.29070277 21.32529039 24.88682244 24.86937282 22.86952447 19.45123791\n",
      " 25.11783401 24.66786913 23.68076177 19.34089616 21.17418105 24.25249073\n",
      " 21.59260894 19.98446605 23.33888    22.14060692 21.55509929 20.61872907\n",
      " 20.16097176 19.28490387 22.1667232  21.24965774 21.42939305 30.32788796\n",
      " 22.04734975 27.70647912 28.54794117 16.54501121 14.78359641 25.27380082\n",
      " 27.54205117 22.14837562 20.45944095 20.54605423 16.88063827 25.40253506\n",
      " 14.32486632 16.59488462 19.63704691 22.71806607 22.20218887 19.20548057\n",
      " 22.66616105 18.93192618 18.22846804 20.23150811 37.4944739  14.28190734\n",
      " 15.54286248 10.83162324 23.80072902 32.6440736  34.60684042 24.94331333\n",
      " 25.9998091   6.126325    0.77779806 25.30713064 17.74061065 20.23274414\n",
      " 15.83331301 16.83512587 14.36994825 18.47682833 13.4276828  13.06177512\n",
      "  3.27918116  8.06022171  6.12842196  5.6186481   6.4519857  14.20764735\n",
      " 17.21225183 17.29887265  9.89116643 20.22124193 17.94181175 20.30445783\n",
      " 19.29559075 16.33632779  6.55162319 10.89016778 11.88145871 17.81174507\n",
      " 18.26126587 12.97948781  7.37816361  8.21115861  8.06626193 19.98294786\n",
      " 13.70756369 19.85268454 15.22308298 16.96071981  1.71851807 11.80578387\n",
      " -4.28131071  9.58376737 13.36660811  6.89562363  6.14779852 14.60661794\n",
      " 19.6000267  18.12427476 18.52177132 13.1752861  14.62617624  9.92374976\n",
      " 16.34590647 14.07519426 14.25756243 13.04234787 18.15955693 18.69554354\n",
      " 21.527283   17.03141861 15.96090435 13.36141611 14.52079384  8.81976005\n",
      "  4.86751102 13.06591313 12.70609699 17.29558059 18.740485   18.05901029\n",
      " 11.51474683 11.97400359 17.68344618 18.12695239 17.5183465  17.22742507\n",
      " 16.52271631 19.41291095 18.58215236 22.48944791 15.28000133 15.82089335\n",
      " 12.68725581 12.8763379  17.18668531 18.51247609 19.04860533 20.17208927\n",
      " 19.7740732  22.42940768 20.31911854 17.88616253 14.37478523 16.94776851\n",
      " 16.98405762 18.58838397 20.16719441 22.97718032 22.45580726 25.57824627\n",
      " 16.39147632 16.1114628  20.534816   11.54272738 19.20496304 21.86276391\n",
      " 23.46878866 27.09887315 28.56994302 21.08398783 19.45516196 22.22225914\n",
      " 19.65591961 21.32536104 11.85583717  8.22386687  3.66399672 13.75908538\n",
      " 15.93118545 20.62662054 20.61249414 16.88541964 14.01320787 19.10854144\n",
      " 21.29805174 18.45498841 20.46870847 23.53334055 22.37571892 27.6274261\n",
      " 26.12796681 22.34421229]\n"
     ]
    },
    {
     "ename": "TypeError",
     "evalue": "'NoneType' object is not subscriptable",
     "output_type": "error",
     "traceback": [
      "\u001b[0;31m---------------------------------------------------------------------------\u001b[0m",
      "\u001b[0;31mTypeError\u001b[0m                                 Traceback (most recent call last)",
      "Input \u001b[0;32mIn [26]\u001b[0m, in \u001b[0;36m<cell line: 1>\u001b[0;34m()\u001b[0m\n\u001b[0;32m----> 1\u001b[0m \u001b[38;5;28;43mprint\u001b[39;49m\u001b[43m(\u001b[49m\u001b[43mpredictions\u001b[49m\u001b[43m)\u001b[49m\u001b[43m[\u001b[49m\u001b[38;5;241;43m0\u001b[39;49m\u001b[43m:\u001b[49m\u001b[38;5;241;43m5\u001b[39;49m\u001b[43m]\u001b[49m\n",
      "\u001b[0;31mTypeError\u001b[0m: 'NoneType' object is not subscriptable"
     ]
    }
   ],
   "source": [
    "print(predictions)[0:5]"
   ]
  },
  {
   "cell_type": "code",
   "execution_count": 27,
   "id": "c3857bee-fc06-4ad9-8a07-669d444c1b61",
   "metadata": {},
   "outputs": [
    {
     "data": {
      "text/plain": [
       "array([-1.08011358e-01,  4.64204584e-02,  2.05586264e-02,  2.68673382e+00,\n",
       "       -1.77666112e+01,  3.80986521e+00,  6.92224640e-04, -1.47556685e+00,\n",
       "        3.06049479e-01, -1.23345939e-02, -9.52747232e-01,  9.31168327e-03,\n",
       "       -5.24758378e-01])"
      ]
     },
     "execution_count": 27,
     "metadata": {},
     "output_type": "execute_result"
    }
   ],
   "source": [
    "lm.coef_\n"
   ]
  },
  {
   "cell_type": "code",
   "execution_count": 28,
   "id": "54c36306-c302-43a6-8d84-1a3b7bc89b93",
   "metadata": {},
   "outputs": [
    {
     "data": {
      "text/plain": [
       "36.459488385089855"
      ]
     },
     "execution_count": 28,
     "metadata": {},
     "output_type": "execute_result"
    }
   ],
   "source": [
    "lm.intercept_\n"
   ]
  },
  {
   "cell_type": "code",
   "execution_count": null,
   "id": "460a694d-ee68-4e6c-9ea6-ba22af0596f4",
   "metadata": {},
   "outputs": [],
   "source": []
  }
 ],
 "metadata": {
  "kernelspec": {
   "display_name": "Python 3 (ipykernel)",
   "language": "python",
   "name": "python3"
  },
  "language_info": {
   "codemirror_mode": {
    "name": "ipython",
    "version": 3
   },
   "file_extension": ".py",
   "mimetype": "text/x-python",
   "name": "python",
   "nbconvert_exporter": "python",
   "pygments_lexer": "ipython3",
   "version": "3.9.12"
  }
 },
 "nbformat": 4,
 "nbformat_minor": 5
}
